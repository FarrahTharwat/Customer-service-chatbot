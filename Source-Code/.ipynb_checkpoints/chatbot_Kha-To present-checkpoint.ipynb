{
 "cells": [
  {
   "cell_type": "code",
   "execution_count": 1,
   "metadata": {},
   "outputs": [],
   "source": [
    "# Faced a problem using the GPU so this code will force the use of the CPU only\n",
    "\n",
    "import os\n",
    "os.environ[\"CUDA_VISIBLE_DEVICES\"] = \"-1\"\n"
   ]
  },
  {
   "cell_type": "markdown",
   "metadata": {
    "jupyter": {
     "outputs_hidden": false
    }
   },
   "source": [
    "# Chatbot Project\n",
    "\n"
   ]
  },
  {
   "cell_type": "code",
   "execution_count": 15,
   "metadata": {
    "jupyter": {
     "outputs_hidden": false
    }
   },
   "outputs": [],
   "source": [
    "# Requirements\n",
    "# This was installed from the command using Conda \n",
    "\n",
    "# !pip install chatintents\n",
    "# !pip install hyperopt\n",
    "# !pip install keras_tuner\n",
    "# !pip install matplotlib\n",
    "# !pip install nltk\n",
    "# !pip install numpy\n",
    "# !pip install pandas\n",
    "# !pip install seaborn\n",
    "# # !pip install sklearn\n",
    "# !pip install scikit-learn\n",
    "# !pip install spacy\n",
    "# !pip install tensorflow\n",
    "# !pip install tensorflow-cpu\n",
    "# !pip install tensorflow_hub\n",
    "# !pip install tqdm\n",
    "# !pip install numba\n",
    "# !spacy download en_core_web_sm"
   ]
  },
  {
   "cell_type": "code",
   "execution_count": 20,
   "metadata": {
    "jupyter": {
     "outputs_hidden": false
    }
   },
   "outputs": [],
   "source": [
    "# Kha\n",
    "# Needed for chatintents\n",
    "\n",
    "\n",
    "# !pip install hdbscan\n",
    "# !pip install ipywidgets\n",
    "# !pip install umap-learn\n",
    "# !pip install chatintents"
   ]
  },
  {
   "cell_type": "code",
   "execution_count": 22,
   "metadata": {
    "jupyter": {
     "outputs_hidden": false
    }
   },
   "outputs": [],
   "source": [
    "# Kha\n",
    "\n",
    "# !pip show chatintents"
   ]
  },
  {
   "cell_type": "code",
   "execution_count": 23,
   "metadata": {},
   "outputs": [],
   "source": [
    "# At the beginning there was a problem with Chatintents() package are the following helped to solve the problem\n",
    "\n",
    "# import sys\n",
    "# sys.path.append('C:\\Users\\Administrator\\anaconda3\\Lib\\site-packages') \n",
    "# import sys\n",
    "# sys.path.append('C:/Users/Administrator/anaconda3/Lib/site-packages')\n",
    "\n",
    "# import sys\n",
    "# sys.path.append('/home/user/.local/lib/python3.9/site-packages') "
   ]
  },
  {
   "cell_type": "code",
   "execution_count": 31,
   "metadata": {
    "jupyter": {
     "outputs_hidden": false
    }
   },
   "outputs": [],
   "source": [
    "# Used this to enable the use of the GPU but was not successful so used the first code to disable the GPU\n",
    "# Although installed the final version of the cupy-cuda\n",
    "\n",
    "# !pip install cupy-cuda"
   ]
  },
  {
   "cell_type": "code",
   "execution_count": 36,
   "metadata": {
    "jupyter": {
     "outputs_hidden": false
    }
   },
   "outputs": [],
   "source": [
    "# Kha\n",
    "# Make sure you write the correct path\n",
    "\n",
    "# Downloaded the model to make it faster\n",
    "module_url = 'C:/Users/Administrator/anaconda3/Scripts/ChatBot/src/extracted_dir'\n",
    "\n",
    "# Chat trabscripts in .txt format\n",
    "DATA_DIR = 'C:/Users/Administrator/anaconda3/Scripts/ChatBot/input/chat_logs'\n",
    "\n",
    "# This is the file that the unsuppervised labels (done using the Chatintents() packge) will be written to\n",
    "LABEL_FILE = 'C:/Users/Administrator/anaconda3/Scripts/ChatBot/input/unsupervised_labeled_data.csv'\n",
    "INTENT_FILE = 'C:/Users/Administrator/anaconda3/Scripts/ChatBot/input/intents.json'\n",
    "MODEL_PATH = 'C:/Users/Administrator/anaconda3/Scripts/ChatBot/outputs/saved_model_keras'\n",
    "MODEL_HISTORY = 'C:/Users/Administrator/anaconda3/Scripts/ChatBot/outputs/HistoryDict'\n"
   ]
  },
  {
   "cell_type": "code",
   "execution_count": 37,
   "metadata": {
    "jupyter": {
     "outputs_hidden": false
    }
   },
   "outputs": [
    {
     "name": "stdout",
     "output_type": "stream",
     "text": [
      "module C:/Users/Administrator/anaconda3/Scripts/ChatBot/src/extracted_dir loaded\n"
     ]
    }
   ],
   "source": [
    "# Importing all the packages\n",
    "# Some of them were added after facing errors running some codes so checking online found that we need to add those packages\n",
    "\n",
    "import chatintents\n",
    "import datetime\n",
    "import json\n",
    "import keras_tuner\n",
    "import os\n",
    "os.environ['TF_CPP_MIN_LOG_LEVEL'] = '1'\n",
    "import nltk\n",
    "import pickle\n",
    "import random\n",
    "import re\n",
    "import sklearn\n",
    "import spacy\n",
    "import numpy as np\n",
    "import pandas as pd\n",
    "import seaborn as sns\n",
    "import tensorflow as tf\n",
    "import tensorflow_hub as hub\n",
    "import matplotlib.pyplot as plt\n",
    "from chatintents import ChatIntents\n",
    "from hyperopt import hp\n",
    "from nltk.corpus import stopwords\n",
    "from nltk.probability import FreqDist\n",
    "from sklearn.metrics import confusion_matrix, classification_report\n",
    "from tensorflow import keras\n",
    "from tensorflow.keras import layers\n",
    "from tensorflow.keras.models import load_model\n",
    "from tqdm import tqdm\n",
    "\n",
    "%matplotlib inline\n",
    "\n",
    "# The embedder will be loaded from the pre-trained model\n",
    "embedder = hub.load(module_url)\n",
    "print(f\"module {module_url} loaded\")\n",
    "\n",
    "pd.set_option(\"display.max_rows\", 60)\n",
    "pd.set_option(\"display.max_columns\", 50)\n",
    "pd.set_option(\"max_colwidth\", 40)\n",
    "\n",
    "nlp = spacy.load(\"en_core_web_sm\", disable=['parser', 'ner'])"
   ]
  },
  {
   "cell_type": "code",
   "execution_count": 38,
   "metadata": {},
   "outputs": [],
   "source": [
    "tf.keras.backend.clear_session()"
   ]
  },
  {
   "cell_type": "markdown",
   "metadata": {
    "jupyter": {
     "outputs_hidden": false
    }
   },
   "source": [
    "## Data preprocessing"
   ]
  },
  {
   "cell_type": "code",
   "execution_count": 40,
   "metadata": {
    "jupyter": {
     "outputs_hidden": false
    }
   },
   "outputs": [],
   "source": [
    "# Class for processing and normalizing raw text\n",
    "\n",
    "class Utt:\n",
    "\n",
    "\n",
    "    def __init__(self, text, query=False):\n",
    "        '''Args:\n",
    "            text (str): Raw text from chat transcript.\n",
    "            query (bool, optional): If True, the output of the class will be\n",
    "            retricted to only the text.\n",
    "        '''\n",
    "\n",
    "        self.text = text\n",
    "        \n",
    "        # dictionary of shorthand tokens that require expanding\n",
    "        self.norm_dict = {\n",
    "           \"btw\":\"by the way\",\n",
    "           \"aint\":\"is not\",\n",
    "           \"arent\":\"are not\",\n",
    "           \"cant\":\"cannot\",\n",
    "           \"cause\":\"because\",\n",
    "           \"couldve\":\"could have\",\n",
    "           \"couldnt\":\"could not\",\n",
    "           \"didnt\":\"did not\",\n",
    "           \"doesnt\":\"does not\",\n",
    "           \"dont\":\"do not\",\n",
    "           \"hadnt\":\"had not\",\n",
    "           \"hasnt\":\"has not\",\n",
    "           \"havent\":\"have not\",\n",
    "           \"hed\":\"he would\",\n",
    "           \"hell\":\"he will\",\n",
    "           \"hes\":\"he is\",\n",
    "           \"howd\":\"how did\",\n",
    "           \"howdy\":\"how do you\",\n",
    "           \"howll\":\"how will\",\n",
    "           \"hows\":\"how is\",\n",
    "           \"Id\":\"I would\",\n",
    "           \"Idve\":\"I would have\",\n",
    "           \"Ill\":\"I will\",\n",
    "           \"Illve\":\"I will have\",\n",
    "           \"Im\":\"I am\",\n",
    "           \"Ive\":\"I have\",\n",
    "           \"id\":\"i would\",\n",
    "           \"idve\":\"i would have\",\n",
    "           \"ill\":\"i will\",\n",
    "           \"illve\":\"i will have\",\n",
    "           \"im\":\"i am\",\n",
    "           \"ive\":\"i have\",\n",
    "           \"isnt\":\"is not\",\n",
    "           \"itd\":\"it would\",\n",
    "           \"itdve\":\"it would have\",\n",
    "           \"itll\":\"it will\",\n",
    "           \"itllve\":\"it will have\",\n",
    "           \"its\":\"it is\",\n",
    "           \"lets\":\"let us\",\n",
    "           \"maam\":\"madam\",\n",
    "           \"maynt\":\"may not\",\n",
    "           \"mightve\":\"might have\",\n",
    "           \"mightnt\":\"might not\",\n",
    "           \"mightntve\":\"might not have\",\n",
    "           \"mustve\":\"must have\",\n",
    "           \"mustnt\":\"must not\",\n",
    "           \"mustntve\":\"must not have\",\n",
    "           \"neednt\":\"need not\",\n",
    "           \"needntve\":\"need not have\",\n",
    "           \"ok\": \"okay\",\n",
    "           \"oclock\":\"of the clock\",\n",
    "           \"oughtnt\":\"ought not\",\n",
    "           \"oughtntve\":\"ought not have\",\n",
    "           \"shant\":\"shall not\",\n",
    "           \"shant\":\"shall not\",\n",
    "           \"shantve\":\"shall not have\",\n",
    "           \"shed\":\"she would\",\n",
    "           \"shedve\":\"she would have\",\n",
    "           \"shell\":\"she will\",\n",
    "           \"shellve\":\"she will have\",\n",
    "           \"shes\":\"she is\",\n",
    "           \"shouldve\":\"should have\",\n",
    "           \"shouldnt\":\"should not\",\n",
    "           \"shouldntve\":\"should not have\",\n",
    "           \"sove\":\"so have\",\n",
    "           \"sos\":\"so as\",\n",
    "           \"thiss\":\"this is\",\n",
    "           \"thatd\":\"that would\",\n",
    "           \"thatdve\":\"that would have\",\n",
    "           \"thats\":\"that is\",\n",
    "           \"thered\":\"there would\",\n",
    "           \"theredve\":\"there would have\",\n",
    "           \"theres\":\"there is\",\n",
    "           \"heres\":\"here is\",\n",
    "           \"theyd\":\"they would\",\n",
    "           \"theydve\":\"they would have\",\n",
    "           \"theyll\":\"they will\",\n",
    "           \"theyllve\":\"they will have\",\n",
    "           \"theyre\":\"they are\",\n",
    "           \"theyve\":\"they have\",\n",
    "           \"tove\":\"to have\",\n",
    "           \"wasnt\":\"was not\",\n",
    "           \"wed\":\"we would\",\n",
    "           \"wedve\":\"we would have\",\n",
    "           \"well\":\"we will\",\n",
    "           \"wellve\":\"we will have\",\n",
    "           \"were\":\"we are\",\n",
    "           \"weve\":\"we have\",\n",
    "           \"werent\":\"were not\",\n",
    "           \"whatll\":\"what will\",\n",
    "           \"whatllve\":\"what will have\",\n",
    "           \"whatre\":\"what are\",\n",
    "           \"whats\":\"what is\",\n",
    "           \"whatve\":\"what have\",\n",
    "           \"whens\":\"when is\",\n",
    "           \"whenve\":\"when have\",\n",
    "           \"whered\":\"where did\",\n",
    "           \"wheres\":\"where is\",\n",
    "           \"whereve\":\"where have\",\n",
    "           \"wholl\":\"who will\",\n",
    "           \"whollve\":\"who will have\",\n",
    "           \"whos\":\"who is\",\n",
    "           \"whove\":\"who have\",\n",
    "           \"whys\":\"why is\",\n",
    "           \"whyve\":\"why have\",\n",
    "           \"willve\":\"will have\",\n",
    "           \"wont\":\"will not\",\n",
    "           \"wontve\":\"will not have\",\n",
    "           \"wouldve\":\"would have\",\n",
    "           \"wouldnt\":\"would not\",\n",
    "           \"wouldntve\":\"would not have\",\n",
    "           \"yall\":\"you all\",\n",
    "           \"yalld\":\"you all would\",\n",
    "           \"yalldve\":\"you all would have\",\n",
    "           \"yallre\":\"you all are\",\n",
    "           \"yallve\":\"you all have\",\n",
    "           \"youd\":\"you would\",\n",
    "           \"youdve\":\"you would have\"\n",
    "        }\n",
    "\n",
    "        self.query = query\n",
    "        \n",
    "        # process text\n",
    "        if not self.query:\n",
    "            self.participant, self.utt_preprocess, self.utt = self._preprocess_text()\n",
    "        else:\n",
    "            self.utt_preprocess = self.text.lstrip().lower()\n",
    "\n",
    "        # clean utt\n",
    "        self.utt_clean = self._clean_utt()\n",
    "\n",
    "    def _preprocess_text(self):\n",
    "        '''Takes transcript line, removes dates and returns participant number\n",
    "        and lowered text.'''\n",
    "\n",
    "        text = re.sub(r'\\(\\d{4}-\\d{2}-\\d{2} \\d{2}:\\d{2}:\\d{2}\\) ', '', self.text)\n",
    "        try:\n",
    "            participant, text = text.split(':', 1)\n",
    "            if text:\n",
    "                if participant.startswith('Visitor'):\n",
    "                    participant = 1\n",
    "                else:\n",
    "                    participant = 2\n",
    "                return participant, text.lstrip().lower(), text\n",
    "        except ValueError:\n",
    "            pass\n",
    "\n",
    "    def _clean_utt(self):\n",
    "        '''Cleans text of urls and everything by alpha characters\n",
    "        and single-wide whitespace'''\n",
    "\n",
    "        utt_clean = re.sub(r'http.*\\b', '', self.utt_preprocess)\n",
    "        utt_clean = utt_clean.replace('-', ' ')\n",
    "        utt_clean = re.sub(r\"[^a-z ]\", '', utt_clean)\n",
    "        self.utt_clean = re.sub(r' {2,}', ' ', utt_clean)\n",
    "\n",
    "        return self.utt_clean\n",
    "\n",
    "    def _norm_utt(self):\n",
    "        '''Replaces contracted tokens with expanded forms in text'''\n",
    "\n",
    "        for token, repl in self.norm_dict.items():\n",
    "            utt_norm = self.utt_clean.replace(token, repl)\n",
    "\n",
    "        return utt_norm\n",
    "\n",
    "    def _limit_utt_length(self, utt):\n",
    "        '''Checks if utterance is within is certain length range.\n",
    "        Returns utt if in range or returns None'''\n",
    "\n",
    "        if len(utt) > 50:\n",
    "            utt = None\n",
    "        if len(utt) < 1:\n",
    "            utt = None\n",
    "        return utt\n",
    "\n",
    "    def parse_utt(self):\n",
    "        '''Process clean utt to: Normalize contractions, lemmatize tokens,\n",
    "        check utterance within lenth range. If self.query is True returns utterance\n",
    "        else returns participant numner, original utt, and preprocessed utt.'''\n",
    "\n",
    "        if self.utt_clean:\n",
    "            utt_norm = self._norm_utt()\n",
    "            doc = nlp(utt_norm)\n",
    "            list_lemma = [token.lemma_ for token in doc if len(token) > 1]\n",
    "            utt = self._limit_utt_length(list_lemma)\n",
    "            if utt:\n",
    "                utt = ' '.join(utt)\n",
    "                if not self.query:\n",
    "                    return self.participant, self.utt, utt\n",
    "                return utt"
   ]
  },
  {
   "cell_type": "code",
   "execution_count": 41,
   "metadata": {
    "jupyter": {
     "outputs_hidden": false
    }
   },
   "outputs": [],
   "source": [
    "# Takes a directory containing raw chat logs as input and returns data frame of preprocessed text with speaker number.\n",
    "\n",
    "def parse_files(directory):\n",
    "    '''Takes a directory containing raw chat logs as input and returns data frame of\n",
    "    preprocessed text with speaker number.'''\n",
    "\n",
    "    data = []\n",
    "    for filename in os.listdir(directory):\n",
    "        if filename.endswith(\".text\"):\n",
    "            filepath = os.path.join(directory, filename)\n",
    "            with open(filepath, 'r', encoding=\"utf-8\") as f:\n",
    "                for line in f:\n",
    "                    line = line.strip()\n",
    "                    if line.startswith(r'('):\n",
    "                        try:\n",
    "                            utt_object = Utt(line, query=False)\n",
    "                            participant, utt, parsed_utt = utt_object.parse_utt()\n",
    "                            if parsed_utt:\n",
    "                                data.append([participant, utt, parsed_utt])\n",
    "                        except TypeError:\n",
    "                            pass\n",
    "\n",
    "    if data:\n",
    "        df = pd.DataFrame(data, columns=['participant', 'original_text', 'text'])\n",
    "        df.participant = df.participant.astype('category')\n",
    "        return df"
   ]
  },
  {
   "cell_type": "code",
   "execution_count": 42,
   "metadata": {
    "jupyter": {
     "outputs_hidden": false
    }
   },
   "outputs": [],
   "source": [
    "data = parse_files(DATA_DIR)"
   ]
  },
  {
   "cell_type": "code",
   "execution_count": 43,
   "metadata": {
    "jupyter": {
     "outputs_hidden": false
    }
   },
   "outputs": [
    {
     "data": {
      "text/html": [
       "<div>\n",
       "<style scoped>\n",
       "    .dataframe tbody tr th:only-of-type {\n",
       "        vertical-align: middle;\n",
       "    }\n",
       "\n",
       "    .dataframe tbody tr th {\n",
       "        vertical-align: top;\n",
       "    }\n",
       "\n",
       "    .dataframe thead th {\n",
       "        text-align: right;\n",
       "    }\n",
       "</style>\n",
       "<table border=\"1\" class=\"dataframe\">\n",
       "  <thead>\n",
       "    <tr style=\"text-align: right;\">\n",
       "      <th></th>\n",
       "      <th>participant</th>\n",
       "      <th>original_text</th>\n",
       "      <th>text</th>\n",
       "    </tr>\n",
       "  </thead>\n",
       "  <tbody>\n",
       "    <tr>\n",
       "      <th>0</th>\n",
       "      <td>2</td>\n",
       "      <td>Hi, please let me know how I can he...</td>\n",
       "      <td>hi please let I know how can help yo...</td>\n",
       "    </tr>\n",
       "    <tr>\n",
       "      <th>1</th>\n",
       "      <td>2</td>\n",
       "      <td>View a list of 120+ end-to-end Mach...</td>\n",
       "      <td>view list of end to end machine lear...</td>\n",
       "    </tr>\n",
       "    <tr>\n",
       "      <th>2</th>\n",
       "      <td>2</td>\n",
       "      <td>Solution code + videos + tech suppo...</td>\n",
       "      <td>solution code video tech support moc...</td>\n",
       "    </tr>\n",
       "    <tr>\n",
       "      <th>3</th>\n",
       "      <td>1</td>\n",
       "      <td>Hello Sure</td>\n",
       "      <td>hello sure</td>\n",
       "    </tr>\n",
       "    <tr>\n",
       "      <th>4</th>\n",
       "      <td>2</td>\n",
       "      <td>hi</td>\n",
       "      <td>hi</td>\n",
       "    </tr>\n",
       "    <tr>\n",
       "      <th>...</th>\n",
       "      <td>...</td>\n",
       "      <td>...</td>\n",
       "      <td>...</td>\n",
       "    </tr>\n",
       "    <tr>\n",
       "      <th>9748</th>\n",
       "      <td>1</td>\n",
       "      <td>ok.. please inform them.. I am alre...</td>\n",
       "      <td>ok please inform they be already wor...</td>\n",
       "    </tr>\n",
       "    <tr>\n",
       "      <th>9749</th>\n",
       "      <td>2</td>\n",
       "      <td>please provide your contact number</td>\n",
       "      <td>please provide your contact number</td>\n",
       "    </tr>\n",
       "    <tr>\n",
       "      <th>9750</th>\n",
       "      <td>2</td>\n",
       "      <td>will arrange a call back</td>\n",
       "      <td>will arrange call back</td>\n",
       "    </tr>\n",
       "    <tr>\n",
       "      <th>9751</th>\n",
       "      <td>1</td>\n",
       "      <td>I think fees is much on higher side...</td>\n",
       "      <td>think fee be much on high side for t...</td>\n",
       "    </tr>\n",
       "    <tr>\n",
       "      <th>9752</th>\n",
       "      <td>1</td>\n",
       "      <td>*videos</td>\n",
       "      <td>video</td>\n",
       "    </tr>\n",
       "  </tbody>\n",
       "</table>\n",
       "<p>9753 rows × 3 columns</p>\n",
       "</div>"
      ],
      "text/plain": [
       "     participant                            original_text  \\\n",
       "0              2   Hi, please let me know how I can he...   \n",
       "1              2   View a list of 120+ end-to-end Mach...   \n",
       "2              2   Solution code + videos + tech suppo...   \n",
       "3              1                               Hello Sure   \n",
       "4              2                                       hi   \n",
       "...          ...                                      ...   \n",
       "9748           1   ok.. please inform them.. I am alre...   \n",
       "9749           2       please provide your contact number   \n",
       "9750           2                 will arrange a call back   \n",
       "9751           1   I think fees is much on higher side...   \n",
       "9752           1                                  *videos   \n",
       "\n",
       "                                         text  \n",
       "0     hi please let I know how can help yo...  \n",
       "1     view list of end to end machine lear...  \n",
       "2     solution code video tech support moc...  \n",
       "3                                  hello sure  \n",
       "4                                          hi  \n",
       "...                                       ...  \n",
       "9748  ok please inform they be already wor...  \n",
       "9749       please provide your contact number  \n",
       "9750                   will arrange call back  \n",
       "9751  think fee be much on high side for t...  \n",
       "9752                                    video  \n",
       "\n",
       "[9753 rows x 3 columns]"
      ]
     },
     "execution_count": 43,
     "metadata": {},
     "output_type": "execute_result"
    }
   ],
   "source": [
    "data"
   ]
  },
  {
   "cell_type": "markdown",
   "metadata": {
    "jupyter": {
     "outputs_hidden": false
    }
   },
   "source": [
    "## Exploratory Data Analysis"
   ]
  },
  {
   "cell_type": "code",
   "execution_count": 48,
   "metadata": {
    "jupyter": {
     "outputs_hidden": false
    }
   },
   "outputs": [],
   "source": [
    "# Class for exploring features of data in dataframe.\n",
    "\n",
    "class ExploreData:\n",
    "\n",
    "\n",
    "    def __init__(self, data):\n",
    "        '''Args:\n",
    "            data (:obj:`dataframe`): Tabularised chat transcript data.\n",
    "        '''\n",
    "\n",
    "        # concatenated text data\n",
    "        self.text = ' '.join(list(data['text'].values))\n",
    "\n",
    "        # list of utterances\n",
    "        self.sents = data[\"text\"].tolist()\n",
    "        \n",
    "        # list of all tokens\n",
    "        self.tokens = self.text.split()\n",
    "\n",
    "    def get_token_frequency_dist(self):\n",
    "        '''Takes list of tokens and prints frequency distribution of tokens.'''\n",
    "\n",
    "        print(FreqDist(self.tokens))\n",
    "\n",
    "    def get_top_n_tokens(self, n: int):\n",
    "        '''Takens integer as n and returns top n high frequency tokens.'''\n",
    "\n",
    "        return FreqDist(self.tokens).most_common(n)\n",
    "\n",
    "    def plot_dist_curve(self):\n",
    "        '''Plots frequency (zipf) curve of tokens.'''\n",
    "\n",
    "        fig, ax = plt.subplots(figsize=(12,8))\n",
    "        FreqDist(self.tokens).plot(40, cumulative=False)\n",
    "        plt.show()\n",
    "\n",
    "    def get_token_length_visualisations(self):\n",
    "        '''Plot histogram of token lengths.'''\n",
    "\n",
    "        lengths = [len(i) for i in self.tokens]\n",
    "        plt.figure(figsize=(13,6))\n",
    "        plt.hist(lengths, bins = 40)\n",
    "        plt.title(\"Length of tokens in text\")\n",
    "        plt.show()\n",
    "\n",
    "    def get_sent_length_visuals(self):\n",
    "        '''Plot histogram of sentence lengths.'''\n",
    "\n",
    "        lengths = [len(i) for i in self.sents]\n",
    "        plt.figure(figsize=(13,6))\n",
    "        plt.hist(lengths, bins = 40)\n",
    "        plt.title(\"Length of sentences\")\n",
    "        plt.show()"
   ]
  },
  {
   "cell_type": "code",
   "execution_count": 49,
   "metadata": {
    "jupyter": {
     "outputs_hidden": false
    }
   },
   "outputs": [],
   "source": [
    "eda = ExploreData(data)"
   ]
  },
  {
   "cell_type": "code",
   "execution_count": 50,
   "metadata": {
    "jupyter": {
     "outputs_hidden": false
    }
   },
   "outputs": [
    {
     "name": "stdout",
     "output_type": "stream",
     "text": [
      "<FreqDist with 2492 samples and 60239 outcomes>\n"
     ]
    }
   ],
   "source": [
    "eda.get_token_frequency_dist()"
   ]
  },
  {
   "cell_type": "code",
   "execution_count": 51,
   "metadata": {
    "jupyter": {
     "outputs_hidden": false
    }
   },
   "outputs": [
    {
     "data": {
      "text/plain": [
       "[('you', 2515),\n",
       " ('be', 1991),\n",
       " ('the', 1782),\n",
       " ('to', 1492),\n",
       " ('can', 1127),\n",
       " ('have', 1122),\n",
       " ('project', 1087),\n",
       " ('do', 1058),\n",
       " ('for', 1030),\n",
       " ('and', 931),\n",
       " ('we', 884),\n",
       " ('will', 819),\n",
       " ('ok', 771),\n",
       " ('of', 743),\n",
       " ('your', 611),\n",
       " ('it', 609),\n",
       " ('I', 595),\n",
       " ('please', 573),\n",
       " ('month', 559),\n",
       " ('end', 551)]"
      ]
     },
     "execution_count": 51,
     "metadata": {},
     "output_type": "execute_result"
    }
   ],
   "source": [
    "eda.get_top_n_tokens(20)"
   ]
  },
  {
   "cell_type": "code",
   "execution_count": 52,
   "metadata": {
    "jupyter": {
     "outputs_hidden": false
    }
   },
   "outputs": [
    {
     "data": {
      "image/png": "[encoded data removed]",
      "text/plain": [
       "<Figure size 1200x800 with 1 Axes>"
      ]
     },
     "metadata": {},
     "output_type": "display_data"
    }
   ],
   "source": [
    "eda.plot_dist_curve()"
   ]
  },
  {
   "cell_type": "code",
   "execution_count": 53,
   "metadata": {
    "jupyter": {
     "outputs_hidden": false
    }
   },
   "outputs": [
    {
     "data": {
      "image/png": "[encoded data removed]",
      "text/plain": [
       "<Figure size 1300x600 with 1 Axes>"
      ]
     },
     "metadata": {},
     "output_type": "display_data"
    }
   ],
   "source": [
    "eda.get_token_length_visualisations()"
   ]
  },
  {
   "cell_type": "code",
   "execution_count": 54,
   "metadata": {
    "jupyter": {
     "outputs_hidden": false
    }
   },
   "outputs": [
    {
     "data": {
      "image/png": "[encoded data removed]",
      "text/plain": [
       "<Figure size 1300x600 with 1 Axes>"
      ]
     },
     "metadata": {},
     "output_type": "display_data"
    }
   ],
   "source": [
    "eda.get_sent_length_visuals()"
   ]
  },
  {
   "cell_type": "markdown",
   "metadata": {
    "jupyter": {
     "outputs_hidden": false
    }
   },
   "source": [
    "## Cluster Intent Labels"
   ]
  },
  {
   "cell_type": "code",
   "execution_count": 55,
   "metadata": {},
   "outputs": [],
   "source": [
    "# Used this but didn't solve the Warning\n",
    "\n",
    "# import umap\n",
    "\n",
    "# Example without random_state (allows parallelism)\n",
    "# umap_model = umap.UMAP(n_components=2, n_jobs=4)  # Using 4 CPU cores\n",
    "\n",
    "# Example with random_state (single-threaded)\n",
    "# umap_model = umap.UMAP(n_components=2, random_state=42)  # Will run on 1 core\n"
   ]
  },
  {
   "cell_type": "code",
   "execution_count": 56,
   "metadata": {
    "jupyter": {
     "outputs_hidden": false
    }
   },
   "outputs": [],
   "source": [
    "# Class for clustering utterances and generating labels for clusters\n",
    "\n",
    "class ClusterIntents:\n",
    "\n",
    "\n",
    "    def __init__(self, data, label_file, sorted_labels=False):\n",
    "        '''Args:\n",
    "            data (:obj:`dataframe`): Tabularised chat transcript data.\n",
    "            label_file (str): Variable for path to save output file with labelled utterances.\n",
    "            module_url (str): Variable for url to pretrained Universal\n",
    "            Sentence Encoder model.\n",
    "            sorted_labels (bool, optional): Option to sort output file by labels instead of\n",
    "            by original chat order.\n",
    "        '''\n",
    "\n",
    "        self.data = data\n",
    "        self.label_file = label_file\n",
    "\n",
    "        # list of utterances\n",
    "        all_intents = self.data['text'].tolist()\n",
    "\n",
    "        # numpy array of document embeddings\n",
    "        embeddings = embedder(all_intents)\n",
    "        \n",
    "        # convert embeddings array to sentence embeddings using USE\n",
    "        model = ChatIntents(embeddings, 'use')\n",
    "\n",
    "        # hyperparameter search configuration\n",
    "        hspace = {\n",
    "            \"n_neighbors\": hp.choice('n_neighbors', range(3,16)),\n",
    "            \"n_components\": hp.choice('n_components', range(3,16)),\n",
    "            \"min_cluster_size\": hp.choice('min_cluster_size', range(23,38)),\n",
    "            \"min_samples\": None,\n",
    "            \"random_state\": 42\n",
    "        }\n",
    "\n",
    "        # label number upper and lower bounds\n",
    "        label_lower = 30\n",
    "        label_upper = 100\n",
    "        \n",
    "        # maximum number of search runs\n",
    "        max_evals = 25\n",
    "\n",
    "        # run bayesian hyperparameter search\n",
    "        model.bayesian_search(space=hspace,\n",
    "                              label_lower=label_lower,\n",
    "                              label_upper=label_upper,\n",
    "                              max_evals=max_evals)\n",
    "\n",
    "        # print the best model parameters found search\n",
    "        model.best_params\n",
    "        \n",
    "        # hyperparameter optimized instance attribute\n",
    "        self.model_final = model\n",
    "        \n",
    "        # generate summary dataframe and labeled utts dataframe\n",
    "        self.df_summary, self.labeled_utts = self.model_final.apply_and_summarize_labels(data[['text']])\n",
    "        \n",
    "        # original data with appended labels data\n",
    "        self.labeled_data = self._get_labeled_data()\n",
    "\n",
    "        if sorted_labels:\n",
    "            self.labeled_data = self.get_sorted_labels()\n",
    "        \n",
    "        # output csv file containing extended data input\n",
    "        self._get_data_csv()\n",
    "        print(f'Labelled utterances successfuly written to {label_file}')\n",
    "\n",
    "    def get_model_best_params(self):\n",
    "        '''Prints the final best parameters derived through search.'''\n",
    "\n",
    "        return self.model_final.trials.best_trial\n",
    "\n",
    "    def get_cluster_plot(self):\n",
    "        '''Plot the clusters found from clustering.'''\n",
    "\n",
    "        return self.model_final.plot_best_clusters()\n",
    "\n",
    "    def get_labels_summary(self, n: int):\n",
    "        '''Print n slice of labels summary.'''\n",
    "\n",
    "        return self.df_summary.head(n)\n",
    "\n",
    "    def get_labeled_utts(self, n: int):\n",
    "        '''Print n slice of labelled utterances.'''\n",
    "\n",
    "        return self.labeled_utts.head(n)\n",
    "\n",
    "    def _get_labeled_data(self):\n",
    "        '''Takes original data input adds label column and then removes duplicate\n",
    "        utterances that have the same label.'''\n",
    "\n",
    "        data_copy = self.data.copy()\n",
    "        data_copy['label'] = self.labeled_utts['label']\n",
    "        data_copy_dedup = data_copy.drop_duplicates(subset=['original_text', 'text', 'label'], keep='first')\n",
    "        return data_copy_dedup\n",
    "\n",
    "    def _get_sorted_labels(self):\n",
    "        '''Sort extended data table by label.'''\n",
    "\n",
    "        return self.labeled_data.sort_values(by=['label'])\n",
    "\n",
    "    def _get_data_csv(self):\n",
    "        '''Exports extended data to csv file.'''\n",
    "\n",
    "        return self.labeled_data.to_csv(self.label_file)"
   ]
  },
  {
   "cell_type": "code",
   "execution_count": 57,
   "metadata": {
    "jupyter": {
     "outputs_hidden": false
    },
    "scrolled": true
   },
   "outputs": [
    {
     "name": "stdout",
     "output_type": "stream",
     "text": [
      "  0%|                                                                           | 0/25 [00:00<?, ?trial/s, best loss=?]"
     ]
    },
    {
     "name": "stderr",
     "output_type": "stream",
     "text": [
      "C:\\Users\\Administrator\\anaconda3\\envs\\myenv\\lib\\site-packages\\umap\\umap_.py:1945: UserWarning: n_jobs value 1 overridden to 1 by setting random_state. Use no seed for parallelism.\n",
      "  warn(f\"n_jobs value {self.n_jobs} overridden to 1 by setting random_state. Use no seed for parallelism.\")\n",
      "\n"
     ]
    },
    {
     "name": "stdout",
     "output_type": "stream",
     "text": [
      "  4%|█▉                                              | 1/25 [00:36<14:39, 36.63s/trial, best loss: 0.25325540859222806]"
     ]
    },
    {
     "name": "stderr",
     "output_type": "stream",
     "text": [
      "C:\\Users\\Administrator\\anaconda3\\envs\\myenv\\lib\\site-packages\\umap\\umap_.py:1945: UserWarning: n_jobs value 1 overridden to 1 by setting random_state. Use no seed for parallelism.\n",
      "  warn(f\"n_jobs value {self.n_jobs} overridden to 1 by setting random_state. Use no seed for parallelism.\")\n",
      "\n"
     ]
    },
    {
     "name": "stdout",
     "output_type": "stream",
     "text": [
      "  8%|███▉                                             | 2/25 [01:04<12:08, 31.66s/trial, best loss: 0.2430021531836358]"
     ]
    },
    {
     "name": "stderr",
     "output_type": "stream",
     "text": [
      "C:\\Users\\Administrator\\anaconda3\\envs\\myenv\\lib\\site-packages\\umap\\umap_.py:1945: UserWarning: n_jobs value 1 overridden to 1 by setting random_state. Use no seed for parallelism.\n",
      "  warn(f\"n_jobs value {self.n_jobs} overridden to 1 by setting random_state. Use no seed for parallelism.\")\n",
      "\n"
     ]
    },
    {
     "name": "stdout",
     "output_type": "stream",
     "text": [
      " 12%|█████▉                                           | 3/25 [01:16<08:11, 22.32s/trial, best loss: 0.2430021531836358]"
     ]
    },
    {
     "name": "stderr",
     "output_type": "stream",
     "text": [
      "C:\\Users\\Administrator\\anaconda3\\envs\\myenv\\lib\\site-packages\\umap\\umap_.py:1945: UserWarning: n_jobs value 1 overridden to 1 by setting random_state. Use no seed for parallelism.\n",
      "  warn(f\"n_jobs value {self.n_jobs} overridden to 1 by setting random_state. Use no seed for parallelism.\")\n",
      "\n"
     ]
    },
    {
     "name": "stdout",
     "output_type": "stream",
     "text": [
      " 16%|███████▋                                        | 4/25 [01:34<07:16, 20.78s/trial, best loss: 0.20239926176561057]"
     ]
    },
    {
     "name": "stderr",
     "output_type": "stream",
     "text": [
      "C:\\Users\\Administrator\\anaconda3\\envs\\myenv\\lib\\site-packages\\umap\\umap_.py:1945: UserWarning: n_jobs value 1 overridden to 1 by setting random_state. Use no seed for parallelism.\n",
      "  warn(f\"n_jobs value {self.n_jobs} overridden to 1 by setting random_state. Use no seed for parallelism.\")\n",
      "\n"
     ]
    },
    {
     "name": "stdout",
     "output_type": "stream",
     "text": [
      " 20%|█████████▌                                      | 5/25 [02:00<07:33, 22.66s/trial, best loss: 0.20239926176561057]"
     ]
    },
    {
     "name": "stderr",
     "output_type": "stream",
     "text": [
      "C:\\Users\\Administrator\\anaconda3\\envs\\myenv\\lib\\site-packages\\umap\\umap_.py:1945: UserWarning: n_jobs value 1 overridden to 1 by setting random_state. Use no seed for parallelism.\n",
      "  warn(f\"n_jobs value {self.n_jobs} overridden to 1 by setting random_state. Use no seed for parallelism.\")\n",
      "\n"
     ]
    },
    {
     "name": "stdout",
     "output_type": "stream",
     "text": [
      " 24%|███████████▌                                    | 6/25 [02:30<07:58, 25.19s/trial, best loss: 0.20239926176561057]"
     ]
    },
    {
     "name": "stderr",
     "output_type": "stream",
     "text": [
      "C:\\Users\\Administrator\\anaconda3\\envs\\myenv\\lib\\site-packages\\umap\\umap_.py:1945: UserWarning: n_jobs value 1 overridden to 1 by setting random_state. Use no seed for parallelism.\n",
      "  warn(f\"n_jobs value {self.n_jobs} overridden to 1 by setting random_state. Use no seed for parallelism.\")\n",
      "\n"
     ]
    },
    {
     "name": "stdout",
     "output_type": "stream",
     "text": [
      " 28%|█████████████▍                                  | 7/25 [02:59<07:56, 26.47s/trial, best loss: 0.20239926176561057]"
     ]
    },
    {
     "name": "stderr",
     "output_type": "stream",
     "text": [
      "C:\\Users\\Administrator\\anaconda3\\envs\\myenv\\lib\\site-packages\\umap\\umap_.py:1945: UserWarning: n_jobs value 1 overridden to 1 by setting random_state. Use no seed for parallelism.\n",
      "  warn(f\"n_jobs value {self.n_jobs} overridden to 1 by setting random_state. Use no seed for parallelism.\")\n",
      "\n"
     ]
    },
    {
     "name": "stdout",
     "output_type": "stream",
     "text": [
      " 32%|███████████████▎                                | 8/25 [03:13<06:20, 22.37s/trial, best loss: 0.20239926176561057]"
     ]
    },
    {
     "name": "stderr",
     "output_type": "stream",
     "text": [
      "C:\\Users\\Administrator\\anaconda3\\envs\\myenv\\lib\\site-packages\\umap\\umap_.py:1945: UserWarning: n_jobs value 1 overridden to 1 by setting random_state. Use no seed for parallelism.\n",
      "  warn(f\"n_jobs value {self.n_jobs} overridden to 1 by setting random_state. Use no seed for parallelism.\")\n",
      "\n",
      "C:\\Users\\Administrator\\anaconda3\\envs\\myenv\\lib\\site-packages\\umap\\spectral.py:550: UserWarning: Spectral initialisation failed! The eigenvector solver\n",
      "failed. This is likely due to too small an eigengap. Consider\n",
      "adding some noise or jitter to your data.\n",
      "\n",
      "Falling back to random initialisation!\n",
      "  warn(\n",
      "\n"
     ]
    },
    {
     "name": "stdout",
     "output_type": "stream",
     "text": [
      " 36%|█████████████████▎                              | 9/25 [03:25<05:08, 19.25s/trial, best loss: 0.20239926176561057]"
     ]
    },
    {
     "name": "stderr",
     "output_type": "stream",
     "text": [
      "C:\\Users\\Administrator\\anaconda3\\envs\\myenv\\lib\\site-packages\\umap\\umap_.py:1945: UserWarning: n_jobs value 1 overridden to 1 by setting random_state. Use no seed for parallelism.\n",
      "  warn(f\"n_jobs value {self.n_jobs} overridden to 1 by setting random_state. Use no seed for parallelism.\")\n",
      "\n"
     ]
    },
    {
     "name": "stdout",
     "output_type": "stream",
     "text": [
      " 40%|██████████████████▊                            | 10/25 [03:36<04:08, 16.54s/trial, best loss: 0.20239926176561057]"
     ]
    },
    {
     "name": "stderr",
     "output_type": "stream",
     "text": [
      "C:\\Users\\Administrator\\anaconda3\\envs\\myenv\\lib\\site-packages\\umap\\umap_.py:1945: UserWarning: n_jobs value 1 overridden to 1 by setting random_state. Use no seed for parallelism.\n",
      "  warn(f\"n_jobs value {self.n_jobs} overridden to 1 by setting random_state. Use no seed for parallelism.\")\n",
      "\n"
     ]
    },
    {
     "name": "stdout",
     "output_type": "stream",
     "text": [
      " 44%|████████████████████▋                          | 11/25 [04:00<04:26, 19.04s/trial, best loss: 0.20239926176561057]"
     ]
    },
    {
     "name": "stderr",
     "output_type": "stream",
     "text": [
      "C:\\Users\\Administrator\\anaconda3\\envs\\myenv\\lib\\site-packages\\umap\\umap_.py:1945: UserWarning: n_jobs value 1 overridden to 1 by setting random_state. Use no seed for parallelism.\n",
      "  warn(f\"n_jobs value {self.n_jobs} overridden to 1 by setting random_state. Use no seed for parallelism.\")\n",
      "\n"
     ]
    },
    {
     "name": "stdout",
     "output_type": "stream",
     "text": [
      " 48%|██████████████████████▌                        | 12/25 [04:25<04:30, 20.77s/trial, best loss: 0.20239926176561057]"
     ]
    },
    {
     "name": "stderr",
     "output_type": "stream",
     "text": [
      "C:\\Users\\Administrator\\anaconda3\\envs\\myenv\\lib\\site-packages\\umap\\umap_.py:1945: UserWarning: n_jobs value 1 overridden to 1 by setting random_state. Use no seed for parallelism.\n",
      "  warn(f\"n_jobs value {self.n_jobs} overridden to 1 by setting random_state. Use no seed for parallelism.\")\n",
      "\n"
     ]
    },
    {
     "name": "stdout",
     "output_type": "stream",
     "text": [
      " 52%|████████████████████████▍                      | 13/25 [04:41<03:50, 19.24s/trial, best loss: 0.20239926176561057]"
     ]
    },
    {
     "name": "stderr",
     "output_type": "stream",
     "text": [
      "C:\\Users\\Administrator\\anaconda3\\envs\\myenv\\lib\\site-packages\\umap\\umap_.py:1945: UserWarning: n_jobs value 1 overridden to 1 by setting random_state. Use no seed for parallelism.\n",
      "  warn(f\"n_jobs value {self.n_jobs} overridden to 1 by setting random_state. Use no seed for parallelism.\")\n",
      "\n"
     ]
    },
    {
     "name": "stdout",
     "output_type": "stream",
     "text": [
      " 56%|██████████████████████████▎                    | 14/25 [05:00<03:33, 19.38s/trial, best loss: 0.20239926176561057]"
     ]
    },
    {
     "name": "stderr",
     "output_type": "stream",
     "text": [
      "C:\\Users\\Administrator\\anaconda3\\envs\\myenv\\lib\\site-packages\\umap\\umap_.py:1945: UserWarning: n_jobs value 1 overridden to 1 by setting random_state. Use no seed for parallelism.\n",
      "  warn(f\"n_jobs value {self.n_jobs} overridden to 1 by setting random_state. Use no seed for parallelism.\")\n",
      "\n"
     ]
    },
    {
     "name": "stdout",
     "output_type": "stream",
     "text": [
      " 60%|████████████████████████████▏                  | 15/25 [05:24<03:27, 20.71s/trial, best loss: 0.20239926176561057]"
     ]
    },
    {
     "name": "stderr",
     "output_type": "stream",
     "text": [
      "C:\\Users\\Administrator\\anaconda3\\envs\\myenv\\lib\\site-packages\\umap\\umap_.py:1945: UserWarning: n_jobs value 1 overridden to 1 by setting random_state. Use no seed for parallelism.\n",
      "  warn(f\"n_jobs value {self.n_jobs} overridden to 1 by setting random_state. Use no seed for parallelism.\")\n",
      "\n"
     ]
    },
    {
     "name": "stdout",
     "output_type": "stream",
     "text": [
      " 64%|██████████████████████████████                 | 16/25 [05:37<02:44, 18.29s/trial, best loss: 0.20239926176561057]"
     ]
    },
    {
     "name": "stderr",
     "output_type": "stream",
     "text": [
      "C:\\Users\\Administrator\\anaconda3\\envs\\myenv\\lib\\site-packages\\umap\\umap_.py:1945: UserWarning: n_jobs value 1 overridden to 1 by setting random_state. Use no seed for parallelism.\n",
      "  warn(f\"n_jobs value {self.n_jobs} overridden to 1 by setting random_state. Use no seed for parallelism.\")\n",
      "\n"
     ]
    },
    {
     "name": "stdout",
     "output_type": "stream",
     "text": [
      " 68%|███████████████████████████████▉               | 17/25 [05:51<02:15, 16.99s/trial, best loss: 0.20239926176561057]"
     ]
    },
    {
     "name": "stderr",
     "output_type": "stream",
     "text": [
      "C:\\Users\\Administrator\\anaconda3\\envs\\myenv\\lib\\site-packages\\umap\\umap_.py:1945: UserWarning: n_jobs value 1 overridden to 1 by setting random_state. Use no seed for parallelism.\n",
      "  warn(f\"n_jobs value {self.n_jobs} overridden to 1 by setting random_state. Use no seed for parallelism.\")\n",
      "\n"
     ]
    },
    {
     "name": "stdout",
     "output_type": "stream",
     "text": [
      " 72%|█████████████████████████████████▊             | 18/25 [06:07<01:56, 16.65s/trial, best loss: 0.20239926176561057]"
     ]
    },
    {
     "name": "stderr",
     "output_type": "stream",
     "text": [
      "C:\\Users\\Administrator\\anaconda3\\envs\\myenv\\lib\\site-packages\\umap\\umap_.py:1945: UserWarning: n_jobs value 1 overridden to 1 by setting random_state. Use no seed for parallelism.\n",
      "  warn(f\"n_jobs value {self.n_jobs} overridden to 1 by setting random_state. Use no seed for parallelism.\")\n",
      "\n"
     ]
    },
    {
     "name": "stdout",
     "output_type": "stream",
     "text": [
      " 76%|███████████████████████████████████▋           | 19/25 [06:20<01:34, 15.73s/trial, best loss: 0.20239926176561057]"
     ]
    },
    {
     "name": "stderr",
     "output_type": "stream",
     "text": [
      "C:\\Users\\Administrator\\anaconda3\\envs\\myenv\\lib\\site-packages\\umap\\umap_.py:1945: UserWarning: n_jobs value 1 overridden to 1 by setting random_state. Use no seed for parallelism.\n",
      "  warn(f\"n_jobs value {self.n_jobs} overridden to 1 by setting random_state. Use no seed for parallelism.\")\n",
      "\n"
     ]
    },
    {
     "name": "stdout",
     "output_type": "stream",
     "text": [
      " 80%|█████████████████████████████████████▌         | 20/25 [06:34<01:15, 15.15s/trial, best loss: 0.08335896647185481]"
     ]
    },
    {
     "name": "stderr",
     "output_type": "stream",
     "text": [
      "C:\\Users\\Administrator\\anaconda3\\envs\\myenv\\lib\\site-packages\\umap\\umap_.py:1945: UserWarning: n_jobs value 1 overridden to 1 by setting random_state. Use no seed for parallelism.\n",
      "  warn(f\"n_jobs value {self.n_jobs} overridden to 1 by setting random_state. Use no seed for parallelism.\")\n",
      "\n"
     ]
    },
    {
     "name": "stdout",
     "output_type": "stream",
     "text": [
      " 84%|███████████████████████████████████████▍       | 21/25 [06:53<01:04, 16.16s/trial, best loss: 0.08335896647185481]"
     ]
    },
    {
     "name": "stderr",
     "output_type": "stream",
     "text": [
      "C:\\Users\\Administrator\\anaconda3\\envs\\myenv\\lib\\site-packages\\umap\\umap_.py:1945: UserWarning: n_jobs value 1 overridden to 1 by setting random_state. Use no seed for parallelism.\n",
      "  warn(f\"n_jobs value {self.n_jobs} overridden to 1 by setting random_state. Use no seed for parallelism.\")\n",
      "\n"
     ]
    },
    {
     "name": "stdout",
     "output_type": "stream",
     "text": [
      " 88%|█████████████████████████████████████████▎     | 22/25 [07:26<01:03, 21.23s/trial, best loss: 0.08335896647185481]"
     ]
    },
    {
     "name": "stderr",
     "output_type": "stream",
     "text": [
      "C:\\Users\\Administrator\\anaconda3\\envs\\myenv\\lib\\site-packages\\umap\\umap_.py:1945: UserWarning: n_jobs value 1 overridden to 1 by setting random_state. Use no seed for parallelism.\n",
      "  warn(f\"n_jobs value {self.n_jobs} overridden to 1 by setting random_state. Use no seed for parallelism.\")\n",
      "\n"
     ]
    },
    {
     "name": "stdout",
     "output_type": "stream",
     "text": [
      " 92%|███████████████████████████████████████████▏   | 23/25 [07:41<00:39, 19.57s/trial, best loss: 0.08335896647185481]"
     ]
    },
    {
     "name": "stderr",
     "output_type": "stream",
     "text": [
      "C:\\Users\\Administrator\\anaconda3\\envs\\myenv\\lib\\site-packages\\umap\\umap_.py:1945: UserWarning: n_jobs value 1 overridden to 1 by setting random_state. Use no seed for parallelism.\n",
      "  warn(f\"n_jobs value {self.n_jobs} overridden to 1 by setting random_state. Use no seed for parallelism.\")\n",
      "\n"
     ]
    },
    {
     "name": "stdout",
     "output_type": "stream",
     "text": [
      " 96%|█████████████████████████████████████████████  | 24/25 [08:15<00:23, 23.65s/trial, best loss: 0.08335896647185481]"
     ]
    },
    {
     "name": "stderr",
     "output_type": "stream",
     "text": [
      "C:\\Users\\Administrator\\anaconda3\\envs\\myenv\\lib\\site-packages\\umap\\umap_.py:1945: UserWarning: n_jobs value 1 overridden to 1 by setting random_state. Use no seed for parallelism.\n",
      "  warn(f\"n_jobs value {self.n_jobs} overridden to 1 by setting random_state. Use no seed for parallelism.\")\n",
      "\n"
     ]
    },
    {
     "name": "stdout",
     "output_type": "stream",
     "text": [
      "100%|██████████████████████████████████████████████| 25/25 [08:49<00:00, 21.20s/trial, best loss: 0.040705423972111146]\n",
      "best:\n",
      "{'min_cluster_size': 34, 'min_samples': None, 'n_components': 13, 'n_neighbors': 14, 'random_state': 42}\n",
      "label count: 31\n"
     ]
    },
    {
     "name": "stderr",
     "output_type": "stream",
     "text": [
      "C:\\Users\\Administrator\\anaconda3\\envs\\myenv\\lib\\site-packages\\umap\\umap_.py:1945: UserWarning: n_jobs value 1 overridden to 1 by setting random_state. Use no seed for parallelism.\n",
      "  warn(f\"n_jobs value {self.n_jobs} overridden to 1 by setting random_state. Use no seed for parallelism.\")\n"
     ]
    },
    {
     "name": "stdout",
     "output_type": "stream",
     "text": [
      "Labelled utterances successfuly written to C:/Users/Administrator/anaconda3/Scripts/ChatBot/input/unsupervised_labeled_data.csv\n"
     ]
    }
   ],
   "source": [
    "cluster = ClusterIntents(data, LABEL_FILE)"
   ]
  },
  {
   "cell_type": "code",
   "execution_count": 58,
   "metadata": {
    "jupyter": {
     "outputs_hidden": false
    }
   },
   "outputs": [
    {
     "data": {
      "text/plain": [
       "{'state': 2,\n",
       " 'tid': 24,\n",
       " 'spec': None,\n",
       " 'result': {'loss': 0.040705423972111146, 'label_count': 31, 'status': 'ok'},\n",
       " 'misc': {'tid': 24,\n",
       "  'cmd': ('domain_attachment', 'FMinIter_Domain'),\n",
       "  'workdir': None,\n",
       "  'idxs': {'min_cluster_size': [24],\n",
       "   'n_components': [24],\n",
       "   'n_neighbors': [24]},\n",
       "  'vals': {'min_cluster_size': [11],\n",
       "   'n_components': [10],\n",
       "   'n_neighbors': [11]}},\n",
       " 'exp_key': None,\n",
       " 'owner': None,\n",
       " 'version': 0,\n",
       " 'book_time': datetime.datetime(2024, 9, 28, 15, 21, 22, 31000),\n",
       " 'refresh_time': datetime.datetime(2024, 9, 28, 15, 21, 56, 884000)}"
      ]
     },
     "execution_count": 58,
     "metadata": {},
     "output_type": "execute_result"
    }
   ],
   "source": [
    "cluster.get_model_best_params()"
   ]
  },
  {
   "cell_type": "code",
   "execution_count": 59,
   "metadata": {
    "jupyter": {
     "outputs_hidden": false
    }
   },
   "outputs": [
    {
     "name": "stderr",
     "output_type": "stream",
     "text": [
      "C:\\Users\\Administrator\\anaconda3\\envs\\myenv\\lib\\site-packages\\umap\\umap_.py:1945: UserWarning: n_jobs value 1 overridden to 1 by setting random_state. Use no seed for parallelism.\n",
      "  warn(f\"n_jobs value {self.n_jobs} overridden to 1 by setting random_state. Use no seed for parallelism.\")\n"
     ]
    },
    {
     "data": {
      "image/png": "[encoded data removed]",
      "text/plain": [
       "<Figure size 1400x800 with 2 Axes>"
      ]
     },
     "metadata": {},
     "output_type": "display_data"
    }
   ],
   "source": [
    "cluster.get_cluster_plot()"
   ]
  },
  {
   "cell_type": "code",
   "execution_count": 60,
   "metadata": {
    "jupyter": {
     "outputs_hidden": false
    }
   },
   "outputs": [
    {
     "data": {
      "text/html": [
       "<div>\n",
       "<style scoped>\n",
       "    .dataframe tbody tr th:only-of-type {\n",
       "        vertical-align: middle;\n",
       "    }\n",
       "\n",
       "    .dataframe tbody tr th {\n",
       "        vertical-align: top;\n",
       "    }\n",
       "\n",
       "    .dataframe thead th {\n",
       "        text-align: right;\n",
       "    }\n",
       "</style>\n",
       "<table border=\"1\" class=\"dataframe\">\n",
       "  <thead>\n",
       "    <tr style=\"text-align: right;\">\n",
       "      <th></th>\n",
       "      <th>label_use</th>\n",
       "      <th>count</th>\n",
       "      <th>label</th>\n",
       "    </tr>\n",
       "  </thead>\n",
       "  <tbody>\n",
       "    <tr>\n",
       "      <th>30</th>\n",
       "      <td>29</td>\n",
       "      <td>5711</td>\n",
       "      <td>provide_project_month</td>\n",
       "    </tr>\n",
       "    <tr>\n",
       "      <th>7</th>\n",
       "      <td>6</td>\n",
       "      <td>574</td>\n",
       "      <td>ok_ya</td>\n",
       "    </tr>\n",
       "    <tr>\n",
       "      <th>0</th>\n",
       "      <td>-1</td>\n",
       "      <td>363</td>\n",
       "      <td>find_project_end</td>\n",
       "    </tr>\n",
       "    <tr>\n",
       "      <th>11</th>\n",
       "      <td>10</td>\n",
       "      <td>310</td>\n",
       "      <td>yes</td>\n",
       "    </tr>\n",
       "    <tr>\n",
       "      <th>2</th>\n",
       "      <td>1</td>\n",
       "      <td>220</td>\n",
       "      <td>hi_day</td>\n",
       "    </tr>\n",
       "    <tr>\n",
       "      <th>12</th>\n",
       "      <td>11</td>\n",
       "      <td>195</td>\n",
       "      <td>sure_giron_welcome</td>\n",
       "    </tr>\n",
       "    <tr>\n",
       "      <th>3</th>\n",
       "      <td>2</td>\n",
       "      <td>180</td>\n",
       "      <td>learn_machine_end_view</td>\n",
       "    </tr>\n",
       "    <tr>\n",
       "      <th>6</th>\n",
       "      <td>5</td>\n",
       "      <td>180</td>\n",
       "      <td>resume_guarantee_solution_code</td>\n",
       "    </tr>\n",
       "    <tr>\n",
       "      <th>5</th>\n",
       "      <td>4</td>\n",
       "      <td>179</td>\n",
       "      <td>let_today</td>\n",
       "    </tr>\n",
       "    <tr>\n",
       "      <th>23</th>\n",
       "      <td>22</td>\n",
       "      <td>140</td>\n",
       "      <td>access_access_month</td>\n",
       "    </tr>\n",
       "    <tr>\n",
       "      <th>29</th>\n",
       "      <td>28</td>\n",
       "      <td>131</td>\n",
       "      <td>ask_refund_day</td>\n",
       "    </tr>\n",
       "    <tr>\n",
       "      <th>16</th>\n",
       "      <td>15</td>\n",
       "      <td>124</td>\n",
       "      <td>work_kind_technology_snowflake</td>\n",
       "    </tr>\n",
       "    <tr>\n",
       "      <th>26</th>\n",
       "      <td>25</td>\n",
       "      <td>119</td>\n",
       "      <td>click_address_email_password</td>\n",
       "    </tr>\n",
       "    <tr>\n",
       "      <th>10</th>\n",
       "      <td>9</td>\n",
       "      <td>118</td>\n",
       "      <td>_email</td>\n",
       "    </tr>\n",
       "    <tr>\n",
       "      <th>15</th>\n",
       "      <td>14</td>\n",
       "      <td>110</td>\n",
       "      <td>hello</td>\n",
       "    </tr>\n",
       "    <tr>\n",
       "      <th>20</th>\n",
       "      <td>19</td>\n",
       "      <td>97</td>\n",
       "      <td>nope_mam_shift_return</td>\n",
       "    </tr>\n",
       "    <tr>\n",
       "      <th>22</th>\n",
       "      <td>21</td>\n",
       "      <td>94</td>\n",
       "      <td>send_invite_team_calendar</td>\n",
       "    </tr>\n",
       "    <tr>\n",
       "      <th>17</th>\n",
       "      <td>16</td>\n",
       "      <td>94</td>\n",
       "      <td>schedule_understanding_demo_min</td>\n",
       "    </tr>\n",
       "    <tr>\n",
       "      <th>21</th>\n",
       "      <td>20</td>\n",
       "      <td>91</td>\n",
       "      <td>great</td>\n",
       "    </tr>\n",
       "    <tr>\n",
       "      <th>4</th>\n",
       "      <td>3</td>\n",
       "      <td>89</td>\n",
       "      <td>include_following_project_thing</td>\n",
       "    </tr>\n",
       "  </tbody>\n",
       "</table>\n",
       "</div>"
      ],
      "text/plain": [
       "    label_use  count                            label\n",
       "30         29   5711            provide_project_month\n",
       "7           6    574                            ok_ya\n",
       "0          -1    363                 find_project_end\n",
       "11         10    310                              yes\n",
       "2           1    220                           hi_day\n",
       "12         11    195               sure_giron_welcome\n",
       "3           2    180           learn_machine_end_view\n",
       "6           5    180   resume_guarantee_solution_code\n",
       "5           4    179                        let_today\n",
       "23         22    140              access_access_month\n",
       "29         28    131                   ask_refund_day\n",
       "16         15    124   work_kind_technology_snowflake\n",
       "26         25    119     click_address_email_password\n",
       "10          9    118                           _email\n",
       "15         14    110                            hello\n",
       "20         19     97            nope_mam_shift_return\n",
       "22         21     94        send_invite_team_calendar\n",
       "17         16     94  schedule_understanding_demo_min\n",
       "21         20     91                            great\n",
       "4           3     89  include_following_project_thing"
      ]
     },
     "execution_count": 60,
     "metadata": {},
     "output_type": "execute_result"
    }
   ],
   "source": [
    "cluster.get_labels_summary(20)"
   ]
  },
  {
   "cell_type": "code",
   "execution_count": 61,
   "metadata": {
    "jupyter": {
     "outputs_hidden": false
    }
   },
   "outputs": [
    {
     "data": {
      "text/html": [
       "<div>\n",
       "<style scoped>\n",
       "    .dataframe tbody tr th:only-of-type {\n",
       "        vertical-align: middle;\n",
       "    }\n",
       "\n",
       "    .dataframe tbody tr th {\n",
       "        vertical-align: top;\n",
       "    }\n",
       "\n",
       "    .dataframe thead th {\n",
       "        text-align: right;\n",
       "    }\n",
       "</style>\n",
       "<table border=\"1\" class=\"dataframe\">\n",
       "  <thead>\n",
       "    <tr style=\"text-align: right;\">\n",
       "      <th></th>\n",
       "      <th>text</th>\n",
       "      <th>label_use</th>\n",
       "      <th>label</th>\n",
       "    </tr>\n",
       "  </thead>\n",
       "  <tbody>\n",
       "    <tr>\n",
       "      <th>0</th>\n",
       "      <td>hi please let I know how can help yo...</td>\n",
       "      <td>4</td>\n",
       "      <td>let_today</td>\n",
       "    </tr>\n",
       "    <tr>\n",
       "      <th>1</th>\n",
       "      <td>view list of end to end machine lear...</td>\n",
       "      <td>2</td>\n",
       "      <td>learn_machine_end_view</td>\n",
       "    </tr>\n",
       "    <tr>\n",
       "      <th>2</th>\n",
       "      <td>solution code video tech support moc...</td>\n",
       "      <td>5</td>\n",
       "      <td>resume_guarantee_solution_code</td>\n",
       "    </tr>\n",
       "    <tr>\n",
       "      <th>3</th>\n",
       "      <td>hello sure</td>\n",
       "      <td>14</td>\n",
       "      <td>hello</td>\n",
       "    </tr>\n",
       "    <tr>\n",
       "      <th>4</th>\n",
       "      <td>hi</td>\n",
       "      <td>1</td>\n",
       "      <td>hi_day</td>\n",
       "    </tr>\n",
       "    <tr>\n",
       "      <th>5</th>\n",
       "      <td>how be you</td>\n",
       "      <td>-1</td>\n",
       "      <td>find_project_end</td>\n",
       "    </tr>\n",
       "    <tr>\n",
       "      <th>6</th>\n",
       "      <td>fine</td>\n",
       "      <td>-1</td>\n",
       "      <td>find_project_end</td>\n",
       "    </tr>\n",
       "    <tr>\n",
       "      <th>7</th>\n",
       "      <td>great</td>\n",
       "      <td>20</td>\n",
       "      <td>great</td>\n",
       "    </tr>\n",
       "    <tr>\n",
       "      <th>8</th>\n",
       "      <td>how may help</td>\n",
       "      <td>-1</td>\n",
       "      <td>find_project_end</td>\n",
       "    </tr>\n",
       "    <tr>\n",
       "      <th>9</th>\n",
       "      <td>wonder do you guy have charge</td>\n",
       "      <td>29</td>\n",
       "      <td>provide_project_month</td>\n",
       "    </tr>\n",
       "    <tr>\n",
       "      <th>10</th>\n",
       "      <td>to sign up for prject</td>\n",
       "      <td>29</td>\n",
       "      <td>provide_project_month</td>\n",
       "    </tr>\n",
       "    <tr>\n",
       "      <th>11</th>\n",
       "      <td>yes its pay platform</td>\n",
       "      <td>29</td>\n",
       "      <td>provide_project_month</td>\n",
       "    </tr>\n",
       "    <tr>\n",
       "      <th>12</th>\n",
       "      <td>you may check out the enrolment deta...</td>\n",
       "      <td>0</td>\n",
       "      <td>check_faq_enrolment_detail</td>\n",
       "    </tr>\n",
       "    <tr>\n",
       "      <th>13</th>\n",
       "      <td>annual plan at</td>\n",
       "      <td>29</td>\n",
       "      <td>provide_project_month</td>\n",
       "    </tr>\n",
       "    <tr>\n",
       "      <th>14</th>\n",
       "      <td>okay</td>\n",
       "      <td>18</td>\n",
       "      <td>okay</td>\n",
       "    </tr>\n",
       "    <tr>\n",
       "      <th>15</th>\n",
       "      <td>what do you do currently what kind o...</td>\n",
       "      <td>15</td>\n",
       "      <td>work_kind_technology_snowflake</td>\n",
       "    </tr>\n",
       "    <tr>\n",
       "      <th>16</th>\n",
       "      <td>any discount offer at the moment</td>\n",
       "      <td>29</td>\n",
       "      <td>provide_project_month</td>\n",
       "    </tr>\n",
       "    <tr>\n",
       "      <th>17</th>\n",
       "      <td>yes</td>\n",
       "      <td>10</td>\n",
       "      <td>yes</td>\n",
       "    </tr>\n",
       "    <tr>\n",
       "      <th>18</th>\n",
       "      <td>may have your email address</td>\n",
       "      <td>25</td>\n",
       "      <td>click_address_email_password</td>\n",
       "    </tr>\n",
       "    <tr>\n",
       "      <th>19</th>\n",
       "      <td>can you send I detail on</td>\n",
       "      <td>29</td>\n",
       "      <td>provide_project_month</td>\n",
       "    </tr>\n",
       "  </tbody>\n",
       "</table>\n",
       "</div>"
      ],
      "text/plain": [
       "                                       text  label_use  \\\n",
       "0   hi please let I know how can help yo...          4   \n",
       "1   view list of end to end machine lear...          2   \n",
       "2   solution code video tech support moc...          5   \n",
       "3                                hello sure         14   \n",
       "4                                        hi          1   \n",
       "5                                how be you         -1   \n",
       "6                                      fine         -1   \n",
       "7                                     great         20   \n",
       "8                              how may help         -1   \n",
       "9             wonder do you guy have charge         29   \n",
       "10                    to sign up for prject         29   \n",
       "11                     yes its pay platform         29   \n",
       "12  you may check out the enrolment deta...          0   \n",
       "13                           annual plan at         29   \n",
       "14                                     okay         18   \n",
       "15  what do you do currently what kind o...         15   \n",
       "16         any discount offer at the moment         29   \n",
       "17                                      yes         10   \n",
       "18              may have your email address         25   \n",
       "19                 can you send I detail on         29   \n",
       "\n",
       "                             label  \n",
       "0                        let_today  \n",
       "1           learn_machine_end_view  \n",
       "2   resume_guarantee_solution_code  \n",
       "3                            hello  \n",
       "4                           hi_day  \n",
       "5                 find_project_end  \n",
       "6                 find_project_end  \n",
       "7                            great  \n",
       "8                 find_project_end  \n",
       "9            provide_project_month  \n",
       "10           provide_project_month  \n",
       "11           provide_project_month  \n",
       "12      check_faq_enrolment_detail  \n",
       "13           provide_project_month  \n",
       "14                            okay  \n",
       "15  work_kind_technology_snowflake  \n",
       "16           provide_project_month  \n",
       "17                             yes  \n",
       "18    click_address_email_password  \n",
       "19           provide_project_month  "
      ]
     },
     "execution_count": 61,
     "metadata": {},
     "output_type": "execute_result"
    }
   ],
   "source": [
    "cluster.get_labeled_utts(20)"
   ]
  },
  {
   "cell_type": "markdown",
   "metadata": {
    "jupyter": {
     "outputs_hidden": false
    }
   },
   "source": [
    "## Prepare data"
   ]
  },
  {
   "cell_type": "code",
   "execution_count": 62,
   "metadata": {
    "jupyter": {
     "outputs_hidden": false
    }
   },
   "outputs": [],
   "source": [
    "with open(INTENT_FILE, 'r') as f:\n",
    "    intent_data = json.load(f)\n",
    "\n",
    "intents = sorted(list(intent_data.keys()))"
   ]
  },
  {
   "cell_type": "code",
   "execution_count": 63,
   "metadata": {
    "jupyter": {
     "outputs_hidden": false
    }
   },
   "outputs": [
    {
     "data": {
      "text/plain": [
       "{'interview_resume': {'1': ['also can you help me with resume',\n",
       "   'Do you have one to one resume prep',\n",
       "   'also, can i get resume guidance as well?',\n",
       "   'Any interview tips and guidance for me to crack?',\n",
       "   'Do i get resume tips and mock interviews aswell?',\n",
       "   'and what about the interviews training',\n",
       "   'how you guys choose projects to crack the interview',\n",
       "   'also let me know how you can help me with interview prep'],\n",
       "  '2': ['we provide resume preparation and mock interviews']},\n",
       " 'live_session_mentoring': {'1': ['do u provide live session also',\n",
       "   'do you ny technical guidence or session in this',\n",
       "   'no live classes?',\n",
       "   'will i have live mentor',\n",
       "   '1 - 1 live mentoring too?',\n",
       "   'or there will be any mentoring',\n",
       "   'Will I get mentor who will guide me from scratch how to upload data, clean data and so on..'],\n",
       "  '2': ['you will get help in customised projects in 1-1 sessions',\n",
       "   'you get unlimitted sessions with experts to clariffy your queries',\n",
       "   'You take help of our industry experts',\n",
       "   'once you complete the enrollment .. you can schedule a session with the expert',\n",
       "   'our industry experts will help you after you enroll']},\n",
       " 'download_can': {'1': ['Can we download end to end project to my pc? Or you will provide lab?',\n",
       "   \"Ok i don't know anything on cloud, how do I setup? And work live project? Can we download project?\",\n",
       "   'Last question, can I download end to end project? Or not?',\n",
       "   'Do I have access to download source code?',\n",
       "   'can i download the source code and video',\n",
       "   'can i download dataset and source code',\n",
       "   'after enroll, I can download sourcecode as much as i can ?'],\n",
       "  '2': ['You can download the codes and datasets',\n",
       "   'the codes can be downloaded',\n",
       "   'coddes are downloadable']},\n",
       " 'placement': {'1': ['does your company provide placement platform also ?',\n",
       "   'are there students of projectpro who got placed?',\n",
       "   'so does it provides internship too?',\n",
       "   'and what about placements?',\n",
       "   'do you provide placement assisstance or placement guarantee',\n",
       "   'do you guys provide placement assistance?',\n",
       "   'Do you also get placement assistance or assurance ?'],\n",
       "  '2': ['no placement services', 'we dont provide placements']},\n",
       " '6_months_vs_annual': {'1': ['is the 6month path the same as the  annual path?',\n",
       "   'What do we get if we go with 6 months?'],\n",
       "  '2': ['6 months dont have access to new projects and no mentorship session',\n",
       "   'we have 2 plans 12 months and 6 months . price wise their is hardly any difference',\n",
       "   'no discounts on 6 months and no technical support',\n",
       "   '6 month dont have any support',\n",
       "   'the 6- month plan will cost you more',\n",
       "   '6- months plamn will cost you more',\n",
       "   'Both plans are same only the difference is price for a year and 6 months is that correct?']},\n",
       " '6_months': {'1': ['do you have 6 months ?',\n",
       "   'are there any other quotes like 6 months or 3 months ?',\n",
       "   'what about 6 month plan',\n",
       "   'Can i pay half for a 6 month ?',\n",
       "   'can i pay it 6 month?',\n",
       "   'How about just 6 months ?',\n",
       "   'can I have the subscription options?',\n",
       "   'its annual plan only?'],\n",
       "  '2': ['we have 2 subscriptions 6 months and 12 months',\n",
       "   'we have 6 month plan .. it will cost you almost the same',\n",
       "   'we have 2 plans 6 month and 12 month. I can help you with  a disocunted price',\n",
       "   'we have 6 months and annual plan']},\n",
       " '3_months': {'1': ['Is there plan for 3 months',\n",
       "   'is there a 3 month plan',\n",
       "   'I need for 3 months',\n",
       "   'any discount on 3 months plan pls',\n",
       "   'is there any plan for 3 months',\n",
       "   'what is I only want for 3 months',\n",
       "   'how much youcharge for 90 days pack',\n",
       "   'We can opt for 90 days or 180 days',\n",
       "   'small package of 3 month'],\n",
       "  '2': ['we do not have any plans for 3 months',\n",
       "   'we do not have 90 days or 180 days packages']},\n",
       " 'MLOPS': {'1': ['Do you offer course for MLOPS?'],\n",
       "  '2': ['we do have mlops projects']},\n",
       " 'location': {'1': ['Ok, Where are you guys based?',\n",
       "   'Where is this company located ?',\n",
       "   'where is your offices in india?',\n",
       "   'where are you based?'],\n",
       "  '2': ['we are based out of Bangalore,India']},\n",
       " 'payment_link': {'1': ['kindly enable payment link in my projectPro account',\n",
       "   'In the payment link',\n",
       "   'can you share the link ?',\n",
       "   'Where is the pricing page ?',\n",
       "   'Ok, where do I have to pay?'],\n",
       "  '2': ['we can send you the link and you can enter your details .. then you will come to know how much the monthly payment is',\n",
       "   'then we will procide the payment link',\n",
       "   'then i will give you the discounted payment link.',\n",
       "   'shall i provide you the payment link',\n",
       "   'shall i give you the payment link',\n",
       "   'let me help you with a customize payment link',\n",
       "   'let me help byou with the payment link']},\n",
       " 'Paypal': {'1': ['Do you accept PayPal Credit?'],\n",
       "  '2': ['yes you can pay thru paypal',\n",
       "   'would you like to pay through paypal',\n",
       "   'sure .. Let me get the paypal details sent ..']},\n",
       " 'offer_trials': {'1': ['Do you offer trials?',\n",
       "   \"SO I'm just wondering is there any sample trail project available just to check how a project would be.\",\n",
       "   'Can you give me access for less than 15 minutes or something? You probably know that is a lot of money for my situation'],\n",
       "  '2': [\"we don't provide a trial\"]},\n",
       " 'installments': {'1': ['okay whats the installments',\n",
       "   'I will start membership on installment',\n",
       "   'how much installment',\n",
       "   'payment in installment',\n",
       "   'is there any way i can pay monthly in installments?',\n",
       "   'is it monthly installments or yearly ?',\n",
       "   'we have to pay entire amount as a single pay,ents?',\n",
       "   'DO I need to pay for one year at the time of subscription?',\n",
       "   'So if we take 6 months plan what sit he cost and do we need to all in one shot or monthly basis?'],\n",
       "  '2': ['you should be eligible for installments',\n",
       "   'you can pay in installments',\n",
       "   'you can pay in installments and  their are some disocunts going on',\n",
       "   'you can pay in installments also',\n",
       "   'we provide installment option',\n",
       "   'we provide installment oprtion for us and India so far',\n",
       "   'we have tie up with affirm they convert the amt into installments',\n",
       "   'we have tie up with affirm and they convert it into installments',\n",
       "   'See we have a tie up with Affirm who convert the amt into installments',\n",
       "   'any financial organization will mcheck the credit score for providing installments',\n",
       "   'and you can pay in installments',\n",
       "   'you can pay the total amt into 12 installment',\n",
       "   'you can pay in 12 installments we have tie up with a third party they convert the amt into emi',\n",
       "   'i can covert the total amt in 12 installments',\n",
       "   'you dont have to pay in one shot']},\n",
       " 'renew': {'1': ['once the 6 months or 12 months have elapsed depending on the membership, is it automatically canceled or renewed?'],\n",
       "  '2': ['after 12 months you can renew']},\n",
       " 'cancel_X_months': {'1': ['yeah thats ok, but I was asking what If i only want to pay for a X months? not for a full year',\n",
       "   'what about i want to unsubscribe after 5 months. will i have to pay for rest 7 months also',\n",
       "   'can I unsubscribe in the middle',\n",
       "   \"and can we pay it monthly? suppose for example, I have gained good knowledge and don't want to continue after 3 months then?\"],\n",
       "  '2': ['if you cancel after X amount of months - you will be charged for the full 12 months']},\n",
       " 'cost': {'1': ['What is the cost structure',\n",
       "   'Cost',\n",
       "   'Total cost',\n",
       "   'okay how much the cost',\n",
       "   'how much is the cost',\n",
       "   'What is the cost ?',\n",
       "   'how much is the cost?',\n",
       "   'How much does this cost?',\n",
       "   'What is the cost?',\n",
       "   'How much does cost?',\n",
       "   'What is the cost please',\n",
       "   'what is the cost?',\n",
       "   'I am looking forward to join it can you let me know how much it will cost me',\n",
       "   'total cost',\n",
       "   'wht is the cost'],\n",
       "  '2': ['Our cost informaiton is available on our website']},\n",
       " 'annual': {'1': ['have the option of paying for the annual?',\n",
       "   'Could you give me more information about the annual plan?'],\n",
       "  '2': ['we also have a discount offer on the annual plan',\n",
       "   'its annual subscription which you can pay in installments',\n",
       "   'we have annual membership plan']},\n",
       " 'monthly_subscription': {'1': ['want only personal for a month',\n",
       "   'Do you have personal one moth',\n",
       "   'if i opt for monthly access how many project i can learn',\n",
       "   'let me know if you have any month to month plan',\n",
       "   'ok, I was going to ask, do you have monthly subscriptions?',\n",
       "   'What if I want to cancel the subscription after 1 or 2 months?',\n",
       "   \"then i can't effort, if it is monthly subscription model, i can do\",\n",
       "   \"Ok if i don't like can I cancel subscription after 1 month?\",\n",
       "   'I will try for 1 month?',\n",
       "   'I want to do month by month first before going to annual subscription',\n",
       "   'oh no monthly subscription !',\n",
       "   'Please do you guys have any months subscriptions?',\n",
       "   'no actually is there any way i can pay for one month only?',\n",
       "   'hi! please can i subscribe monthly?',\n",
       "   'can i buy account just for one month?',\n",
       "   'Or if you are able to give me less projects for that money instead of a full access or something else, pay monthly, pay per project',\n",
       "   'is there any plan for a monthly subscription ?',\n",
       "   'can i pay for a month and start my learning',\n",
       "   'i will have to think about it 12 months is too long for me, 3 months is fine but i want to do monthly',\n",
       "   'Can I subscribe for a month? Is there a trail period that I can try?',\n",
       "   'but I want to try for 1 month only and if it suits then only want to extend it',\n",
       "   'is it possible for only 1 month plan to buy?',\n",
       "   'Do you have any one month subscription?',\n",
       "   'or can you give me one month subscription ?',\n",
       "   'And For 2 months?',\n",
       "   'Monthly subscription?',\n",
       "   'I want to use for 1 month as of now...1 year is not relevant for me as i am still a student',\n",
       "   'Hi, I am a student, can you do monthly?',\n",
       "   'im only looking for 1 month plan',\n",
       "   'im looking for one month plan',\n",
       "   'can we cancel after 1 month?'],\n",
       "  '2': ['we dont have monthly subscription',\n",
       "   'we dont have a monthly subscription']},\n",
       " 'monthly_payments': {'1': ['is there any plan for a monthly subscription ?',\n",
       "   'do you have monthly payment option',\n",
       "   'so is it full payment or every month I need to pay?',\n",
       "   'can i pay month wise?',\n",
       "   'but still I want to pay it montly',\n",
       "   'is the payment monthly or upfront',\n",
       "   'can pay this per month or have to be one time payment',\n",
       "   'ok can we pay per month basis?',\n",
       "   'So I will have to pay full money in one go?',\n",
       "   'is it per month?',\n",
       "   'initially, 1 month amount neds to be paid right?',\n",
       "   'per month?',\n",
       "   'do i have to pay upfront and can i pay monthly?',\n",
       "   'Okay but i want to play monthly',\n",
       "   'how much i should pay for a month',\n",
       "   'Do we need to pay monthly basis?',\n",
       "   'I asked a question regarding payment. will it be monthly payment or one time payment?',\n",
       "   'was it monthly payment allowed or just pay at once?',\n",
       "   'i mean is it monthly charge or one at a time?',\n",
       "   'I can pay monthly charges',\n",
       "   'Or monthly charges',\n",
       "   'what is per month cost?',\n",
       "   'Hey, May I know what will be the cost of 1 month?',\n",
       "   'do I need to pay per month?',\n",
       "   'whats the monthly price',\n",
       "   'i want to ask when I subscribe to a plan you debit all the amount of subscription or you debit monthly ?'],\n",
       "  '2': ['if you want monthy payment options we have collaboration with Affirm and could help you with monthly part payments',\n",
       "   'yes you can pay monthly',\n",
       "   'you need to enter your details ... and based on your credit history there will be monthly .. quarterly and 6- month part payment plans',\n",
       "   'We have a collaboration with Affirm ... where you can pay monthly ..',\n",
       "   'we have collaboration with Affirm  for monthly part payment options',\n",
       "   'and you have to pay as per your due date for the monthly credit card payment..',\n",
       "   'where you can pay monthly.. quaterly or 6- monthly',\n",
       "   'you can pay thru monthly part payments .. but it depends on your credit history ...',\n",
       "   'for monthly payments we have a collaboration with affirm',\n",
       "   'you can pay monthly',\n",
       "   'you could go for monthly payment plan',\n",
       "   'if you want you can pay monthly',\n",
       "   'you can go for monthly ... quaterly or 6 months payment']},\n",
       " '12_month': {'1': ['How can I opt for no-cost EMI option (12 months)?',\n",
       "   'If I enroll now I can pay in EMI right.12 month EMI option',\n",
       "   'i would like to pay 12 month no cost emi',\n",
       "   'Im planning for 12 month no cost emi'],\n",
       "  '2': ['total amt will be converted into 12 no cost emi',\n",
       "   'This can also be paid through 12 month no cost emi using a credit card',\n",
       "   'with 12 no ciost emi',\n",
       "   'we have 12 month no ciost EMI',\n",
       "   'can convert into 12 no cost emi',\n",
       "   'you can pay in 12 emi',\n",
       "   'with 12 no cost emi option',\n",
       "   'you can pay through 12 month no cost emi  using a credit card',\n",
       "   'we have a 12 month no cost emi using a credit card',\n",
       "   'we also have 12 month no cost emi using a credit card',\n",
       "   'i can provide you 12 no cost EMI',\n",
       "   'or 12 month no cost emi using any credit card',\n",
       "   'Now , using a credit card, we can provide a 12 month no cost emi',\n",
       "   'you can also pay thru a 12 month no cost emi',\n",
       "   'if you pay using a 12 month no cost emi on a credit card',\n",
       "   'we can pay through a 12 month no cost emi using a credit card',\n",
       "   'with 12 months its unlimitted',\n",
       "   '12 month no cost emi using a credit card',\n",
       "   'you can pay through a 12 month no cost emi using a credit card',\n",
       "   'I can convert the amt into 12 no cost emi on credit card',\n",
       "   'which you can pay in 12 no cost emi',\n",
       "   'or 12 month no cost EMI using any credit card',\n",
       "   'but if you want you can go for 12 month no cost emi using a credit card',\n",
       "   'per month for 12 months',\n",
       "   'you can pay in 12 no cost emi',\n",
       "   'this can be paid in 12 monthly emi using any credit card',\n",
       "   'you can pay using a 12 month no cost emi using a credit card',\n",
       "   'We also have 12 month no cost emi using a credit card',\n",
       "   'but we have 12 month no cost emi on a credit card',\n",
       "   'Yes .. it will be 12 month no cost emi using a credit card or debit card.']},\n",
       " 'emi_options': {'1': ['One more thing...I am gonna pay using EMI option'],\n",
       "  '2': ['we will provide you the payment link with emi options',\n",
       "   'i will send the link if you are eligible you will get the emi',\n",
       "   'i can send you the emi link ... you can fill your details .. and check if it works']},\n",
       " 'emi_details': {'1': ['I need few details on EMI part'],\n",
       "  '2': ['we have emi options with affirm',\n",
       "   'yes Emi is available',\n",
       "   'we have emi options with affirm',\n",
       "   'We have a tie up with affirm for the emi you can check the emi details after you fill in the details and after you get approved']},\n",
       " 'emi_credit_card': {'1': ['Will the emi be through credit card?'],\n",
       "  '2': ['we have emi options using a credit card']},\n",
       " 'certification': {'1': ['I think it is not a certification course right?',\n",
       "   'So you will provide certificate'],\n",
       "  '2': ['no we dont provide certification']},\n",
       " 'projectpro': {'1': ['i wanted to know how can I make use of ProjectPro',\n",
       "   'what is projectpro?'],\n",
       "  '2': ['you can get all those info onin our website',\n",
       "   'you can check our website']},\n",
       " 'demo_discussion': {'1': ['What do you offer in demo ?',\n",
       "   'what u show in demo',\n",
       "   'I am looking for Demo project',\n",
       "   'what is a demo?',\n",
       "   'what will be there in demo?',\n",
       "   'I am asking for Demo session',\n",
       "   'how do you show me the demo?',\n",
       "   'what can I see in the demo',\n",
       "   'but what all is included in a demo?',\n",
       "   'let me know a little about Demo.',\n",
       "   'what will get to see in the demo session?',\n",
       "   'what is the demo about may i know?',\n",
       "   'what is included in the demo?',\n",
       "   'I would like to take a demo class to understand services better'],\n",
       "  '2': ['Demo will be given by our team . Its a 30 minute one on one session to give an insight of our platform',\n",
       "   'demo is giving an insight to our platform',\n",
       "   'thats why we can help you understand the platform better in the demo',\n",
       "   'we can show the projects in the demo session',\n",
       "   'its a 30 minute demo to give you a walk through how our platform is',\n",
       "   'i can arrange a demo to give you a complete insight of our platform',\n",
       "   'demo is a gmeet session to give an insight of our platform',\n",
       "   'demo is to give an insight of our platform',\n",
       "   'demo is a google meet one on one session',\n",
       "   'Demo isa gmeet session where we will walk you through our platform projects',\n",
       "   'the demo is a one on one session',\n",
       "   'demo will be a walk through on our platform , projects',\n",
       "   'demo will give you a walk thorough on the projects platform']},\n",
       " 'thanking': {'1': ['Okay thank You',\n",
       "   \"thank you! that's all I wanted to know for now\",\n",
       "   'thanks a lot.',\n",
       "   'Okay, Thank you Anjali',\n",
       "   'okay thanks',\n",
       "   'Thank you anyways',\n",
       "   'Thanks.',\n",
       "   'great thank you so much',\n",
       "   'Anjali thank you',\n",
       "   'thank you gorgeous',\n",
       "   'I still feel the price is too high to me. But thanks for providing me the info.',\n",
       "   'Thanks for your help',\n",
       "   'ohkk got you, thanks !!',\n",
       "   'Thank You',\n",
       "   'Ok thanks',\n",
       "   \"it's considerable. thanks\",\n",
       "   'Anjali thanks again for your help',\n",
       "   'ok, thanks',\n",
       "   'thank you for your help.',\n",
       "   'Thank you Anjali.I have subscribed',\n",
       "   'thank you very much',\n",
       "   'thanks',\n",
       "   'sure, thanks',\n",
       "   'yeah sure thanks a lot',\n",
       "   'it worked, thanks',\n",
       "   'ok thankyou.',\n",
       "   'thanks dear',\n",
       "   'ok thanks for time!',\n",
       "   'sure thanks',\n",
       "   'k thankyou',\n",
       "   'Thankyou',\n",
       "   'thanks for details',\n",
       "   'thank u',\n",
       "   'Sure, Noted. Thank you',\n",
       "   'thank',\n",
       "   'ok, thank you',\n",
       "   'ok. thanks anjali',\n",
       "   'ok perfect thanks! I will get it now',\n",
       "   \"I'll think a little. Thank you for your support.\",\n",
       "   'thanks than see you',\n",
       "   'thanks for the help!',\n",
       "   'thanks for helping',\n",
       "   'oh thank you',\n",
       "   'Thank you!',\n",
       "   'nice... thank you',\n",
       "   'Thank you so much for your patience and help',\n",
       "   'Thank you! I will register before 10pm.',\n",
       "   'Thanks, i will go through those',\n",
       "   'Thank you so much!',\n",
       "   'got it thanks',\n",
       "   'good thanks',\n",
       "   'ok...  thank you.. will get back',\n",
       "   'Thanks yOU I appreciate taht',\n",
       "   'Okay thanks for the information',\n",
       "   'Great. Thank you.',\n",
       "   'Thanks for the info',\n",
       "   'okay got it ! Thanks for detailed explanation !',\n",
       "   'Well Anjali, I am really thankful for your time',\n",
       "   'ok thank you',\n",
       "   'Cool. Thanks Anjali for your prompt response.',\n",
       "   'thanks again',\n",
       "   'Okay, no worries. Thank yoj for your time',\n",
       "   'anyway thankyou for replying.',\n",
       "   'Ok no worries, thank you so much',\n",
       "   'Thanks!!',\n",
       "   'thankyou so much! Really appreciate your help Anjali',\n",
       "   'thanks btw',\n",
       "   'Thanks for your response.',\n",
       "   'Okay. Thank you.',\n",
       "   'sound great, thanks',\n",
       "   'Will do Thanks',\n",
       "   'thanks, Anjali',\n",
       "   'Thank you...',\n",
       "   'thank you so so much',\n",
       "   'oh ok thank you',\n",
       "   'thanks anjali',\n",
       "   'got it. thanks',\n",
       "   'Thank you.',\n",
       "   'Thanks for listening me',\n",
       "   'Thank you, got it',\n",
       "   'thanks for the link',\n",
       "   'Thanks for the PDF'],\n",
       "  '2': ['sure',\n",
       "   \"sure ... you're welcome\",\n",
       "   \"You're welcome\",\n",
       "   'you are welcome.']},\n",
       " 'discount': {'1': ['any discount',\n",
       "   'also do you have any discounts',\n",
       "   'what are the discounts?',\n",
       "   'any discount?',\n",
       "   'any discount offer at the moment',\n",
       "   'is there any discount coupans?',\n",
       "   'Is there any discounts?',\n",
       "   'please if u can provide some extra discount',\n",
       "   'any discounts?',\n",
       "   'can i have any discounts for subscription?',\n",
       "   'what you discount offer at the moment',\n",
       "   'There were some discount options mentioned on call',\n",
       "   'discount',\n",
       "   'Can I get some discount. I am in no position to even pay the discount 540$ Price per year',\n",
       "   'any promo',\n",
       "   'deals?',\n",
       "   'thats too expensive, there is no promotions going on',\n",
       "   'Hi, is there an offer going on right now?'],\n",
       "  '2': ['we do have some offers going on',\n",
       "   'our team will help you with a disocunted price',\n",
       "   'we have a promo going on',\n",
       "   'let me arrange a call, our team can help you with a discounted price',\n",
       "   'we do have discounts',\n",
       "   'we do have some discounts going on',\n",
       "   'we also have discount offers going',\n",
       "   'yes we do have discounts',\n",
       "   'we also have discount offers',\n",
       "   'we are currently running with some discounts .',\n",
       "   'can help you with some disocunts',\n",
       "   'we have great discounts gong on now',\n",
       "   'we have disocunts',\n",
       "   'currently we are running with some discounts',\n",
       "   'we have an amazing discout offer going on ...',\n",
       "   'let me tag you the disocunts',\n",
       "   'i can help you with discounts',\n",
       "   'i can help you with some discounts',\n",
       "   'but we have discount offers going on',\n",
       "   'i can help you with a stiudent disocunted price',\n",
       "   'yes i can help you with a discount',\n",
       "   'but we have discounts for you',\n",
       "   'we have a discount offer going in',\n",
       "   'we do have some discounts also',\n",
       "   'the team can help you with discounts',\n",
       "   'we are having some discounts  going on',\n",
       "   'we also have discount offers ..',\n",
       "   'and we are currently running with some discounts',\n",
       "   'we are  running with some discounts',\n",
       "   'we have special discounts going on',\n",
       "   'i will help you with a disocun ted price',\n",
       "   'but we do have some offline offers going on which i can help you with',\n",
       "   'their are some discounts going on',\n",
       "   'we do have some disocunts',\n",
       "   'yes we do have discount',\n",
       "   'we have discount offers as well',\n",
       "   'let me tag you you the discount',\n",
       "   'we have discounts',\n",
       "   'but we have a discount offer going on ...',\n",
       "   'if you want , we ca  help you with some discounts',\n",
       "   'we do have disocunts going on',\n",
       "   'will tag you with discounts',\n",
       "   'we do have some disocunts also',\n",
       "   'we are having few promotions going on',\n",
       "   'we have some discounts going on']},\n",
       " 'discount_student': {'1': ['is there any discounts for students?',\n",
       "   'Also, the student discount is still there right?',\n",
       "   \"I'm a student do I have a discount or something for that? Or that's a fixed price?\",\n",
       "   'Ok. Can you plz confirm the price after student discount ?',\n",
       "   'what is the price with student discount ?',\n",
       "   'for students, can you please less',\n",
       "   'Hi, I wish to enroll but the subscription rate is too high. I am a student in Indiana University. If you have any student discount, that will help me.',\n",
       "   'Hi, do you have discount for students, why it is too expensive? I really need something like that but I can not afford 1200 dollar',\n",
       "   'hi I am a student. Do you have any discount?',\n",
       "   'any student discount?'],\n",
       "  '2': ['for students we have discounted pricing',\n",
       "   'we have an offer on student discounted price',\n",
       "   'we have astudent discounted price',\n",
       "   'will help you with a student discount',\n",
       "   'will provide you the student discounted price',\n",
       "   'will help you with student discount',\n",
       "   'we have student discount',\n",
       "   'for students we have discounts',\n",
       "   'can help you with a student discounted price',\n",
       "   'will help you with the student discounted price',\n",
       "   'we have special student discount',\n",
       "   'we have  dicscounted price for students',\n",
       "   'we have a  student discount price',\n",
       "   'i will help you with a student discounted price',\n",
       "   'see i can help you with a student discounted price']},\n",
       " 'enrollment': {'1': ['sure, How do I subscribe?',\n",
       "   'I wan to suscribe',\n",
       "   'I wanted to know if there are any discount options for yearly subscription',\n",
       "   'I am willing to take a subscription now',\n",
       "   'can I have the subscription options?',\n",
       "   \"to be honest, i'm just checking online if there are specials\",\n",
       "   'Hope I get Cashback',\n",
       "   'How can we subscribe to this?',\n",
       "   'Do I need to pay to use this project?',\n",
       "   'I would love to subscribe for this',\n",
       "   'how to enroll it',\n",
       "   'I am looking to enroll this week',\n",
       "   'where i can enroll with u',\n",
       "   'from where do i enroll?',\n",
       "   'how to enroll',\n",
       "   'can you tell me how I can sign up',\n",
       "   'signup',\n",
       "   'I hope to enrol before the end of the day'],\n",
       "  '2': ['Please use the above link to complete the enrollment.',\n",
       "   'This link will be valid for couple of hours .. so please ensure to complete the enrollment as soon as possible',\n",
       "   'We can send you the link now and you can complete the enrollment',\n",
       "   'Please complete the enrollment using the abouve link',\n",
       "   'please use the above link to complete the enrollment ... this is valid for 1 hr',\n",
       "   'Please use the above link to complete the enrollment as a onetime payment..']},\n",
       " 'project_want': {'1': ['so i am searching for her some real life projects',\n",
       "   'so after I enrol I can choose any project I like?',\n",
       "   'i need simple collage project',\n",
       "   'Hey, i want some thing realtime project practice',\n",
       "   'I want to do projects',\n",
       "   'Wanted some real time projects to showcase',\n",
       "   'and try to find a project and write on  my resume',\n",
       "   'I want to learn something new',\n",
       "   'and need projects to get my hands dirty',\n",
       "   'i am interested to see different project ideas',\n",
       "   'I want to signup for projects course',\n",
       "   'but looking some project for practice.',\n",
       "   'I want to try with few projects',\n",
       "   'I want to do some projects',\n",
       "   'I want to do projects in cloud',\n",
       "   'i like to learn real projects',\n",
       "   'I will get access to all projects right? I mean not only in azure but remaining all like big data etc,.',\n",
       "   'does it ahve access to every',\n",
       "   'with that membership you have access to all the projects that have',\n",
       "   'does the subscription contains all the projects listed on the website?',\n",
       "   'that means I can make use of any project in ProjectPro?',\n",
       "   'Cool. And when you say all the projects, Do I also get access to other projects in other domain?',\n",
       "   'I saw the courses option - can I access all the available course'],\n",
       "  '2': ['you can access all the projects',\n",
       "   'we have 240+ projects and every month we add 15 to 20 projects',\n",
       "   'we have projects which you can  access',\n",
       "   'yes we have 230+ projects and we add 15 to 20 new projects every month',\n",
       "   'we have 230+ projects as on today and every month we add 15 to 20 projects',\n",
       "   'we provide access to all projects ... you can work on any of them',\n",
       "   'yes , you will get access to all projects',\n",
       "   'You will get access to all the projects',\n",
       "   'you get an access to all the projects',\n",
       "   'For accessing our services you need to enroll with us',\n",
       "   'so for that .. you can enroll.. use the platform to learn .. if you want cancel within 3 months',\n",
       "   'you need to enroll to access the projects',\n",
       "   'you need to enroll with us to access the projects',\n",
       "   'you can enroll with us and get access to all the projects',\n",
       "   'you need to enroll with us to access the projects and the expert sessions',\n",
       "   'Once you sign up , you will get access to all the projects ..',\n",
       "   'its a risk free enrollment',\n",
       "   'you have to enroll to access the projects']},\n",
       " 'refund_info': {'1': [\"If i don't get helpful will I get any refund?\",\n",
       "   \"90 days refund option, i can't see\",\n",
       "   'Do I have money back guaranty',\n",
       "   'but confirm me one thing you said we can ask for refund if we dont like it with 30days are so',\n",
       "   'If i want to dis continue means after 1 month',\n",
       "   \"is there a money back gurantee, in case i'm not satisfied?\",\n",
       "   'If I take subscription through credit card, after 2months I want to cancel it due time concern. So amount will be refunded?',\n",
       "   'HI anjali, I still have not completed 90 days. I would like to request a refund',\n",
       "   'is it really 90 days no question asked refund?',\n",
       "   'How the 90 day refund guarantee works?',\n",
       "   'How the  90 day refund guarantee works',\n",
       "   'and refundable within 30 days',\n",
       "   'you sure right I can cancel it within 90 days if I dont like it',\n",
       "   'and what are the cancellation / refund policies ?',\n",
       "   'and any refund ?',\n",
       "   'Also if one uses this portal extensively for 3 months and after that he does not find the need of this portal...then also he can ask for the refund right?',\n",
       "   \"but according to the website, i can ask for refund in 90 days, if i don't like this platform\",\n",
       "   'ok what is the refund policy ?',\n",
       "   '90 days refund policy',\n",
       "   \"I'm here to seek a refund for account  . I want to cancel my subscription and want entire refund\",\n",
       "   '90 day refund guarantee. ???',\n",
       "   'How much money will be refunded if i cancel with in 90 days',\n",
       "   'i can cancel the subscription any time ..will you refund the amount'],\n",
       "  '2': ['we have  a 90 days no question complete refund policy',\n",
       "   \"We provide an unlimited no questions asked refund - you may sign up and if you don't think we are adding value to you - you can ask for a full refund\",\n",
       "   'we have a 90- day refund policy',\n",
       "   \"We provide an unlimited no questions asked refund - you may sign up and if you don't think we are adding value to you - you can ask for a full refund within 90 days\",\n",
       "   '90 days no question complete refund',\n",
       "   'once you enroll and if you  feel that we are not adding value then you have an option to cancel the access',\n",
       "   '90 days refund  policy is applicable on annual enrollment',\n",
       "   'we have 90 days no question complete refund policy',\n",
       "   'in case if you feel that we are not adding value you can cancel your subscription',\n",
       "   'if you want to cancel it you can the 1st 3 months',\n",
       "   \"We provide an unlimited no questions asked refund - you may sign up and if you don't think we are adding value to you - you can ask for a full refund in the 1st 90 days\",\n",
       "   '90  days no question complete refund we provide if you dont like our platform',\n",
       "   'we dont provide trial to our platform since we have this 90 days no question complete refund policy',\n",
       "   'refund policy is applicable in the first 3 months',\n",
       "   'cancellations applicable in fisrt 3 months',\n",
       "   'you can cancele in the 1st 3 months not after that',\n",
       "   '90 days no question completeb refund',\n",
       "   'You can cancel and we will refund anytime in the first 3 months ...',\n",
       "   'once you enroll  you have 90 days time to explore our plat form',\n",
       "   \"We provide an unlimited no questions asked refund - you may sign up and if you don't think we are adding value to you - you can ask for a full refund in the first 90 days\",\n",
       "   'we have a 90 days  no question complete refund policy  that is applicable on 12 months access',\n",
       "   'we have a 90 days no question complete refund policy',\n",
       "   'as we have a 90 days no question refund policy']},\n",
       " 'refund_process_time': {'1': ['Please process the refund',\n",
       "   'okay! This is the first time im trying this service so I would want to have the gaurantee of a full refund if i happen to cancel it sometime before 90 days. And id want to know when would the refund be processed',\n",
       "   'Ok, but how long does it take to get the refund?'],\n",
       "  '2': ['if you are going for a single shot amt it takes 7 to 10 working days to refund',\n",
       "   'the concern team will revert back and it will be processed with in 7 working days',\n",
       "   'we process it immediately',\n",
       "   '7 working days it will be done',\n",
       "   'Any refund process will take 3 to 4 working days']},\n",
       " 'ask_email': {'1': ['Can you share the email please?',\n",
       "   'Can I get an email ID or contact on which i can reach out to someone?'],\n",
       "  '2': ['care@projectpro.io']},\n",
       " 'give_email': {'1': ['Please email me',\n",
       "   'also can you please send me an email to the discount',\n",
       "   'now mail me something for confirmation',\n",
       "   'I did not yet receive any email',\n",
       "   'could you please email it to me',\n",
       "   \"can you send me an email with the link, so that I don't loose it\",\n",
       "   'you send email ?',\n",
       "   'to my mail',\n",
       "   'before that can u send me course content',\n",
       "   'I can pay $500 , let me know if that works well for you, email me,  thank you and have a good one',\n",
       "   'ok u can send details over mail',\n",
       "   'have you send me the mail??',\n",
       "   'u can send all details on this',\n",
       "   'But need info to my email id please',\n",
       "   'or you can  send email to my mailbox',\n",
       "   \"I haven't got an email yet\",\n",
       "   'I have written a mail to PROJECTPRO',\n",
       "   'Are you sending email regarding tomarrows demo',\n",
       "   'can you send a quote to my email ?',\n",
       "   'pls schedule one and send me a mail pls'],\n",
       "  '2': ['ok sure , i will ask my team to send you an email ...',\n",
       "   'our team will drop you an email',\n",
       "   'our team will drop an email',\n",
       "   'yes my team will send the details to your email address',\n",
       "   'i will ask my team to drop an email',\n",
       "   'let me drop you an email  that will help you',\n",
       "   'you will be receiving an email with the details.',\n",
       "   'will ask my team to email you',\n",
       "   'ok sure ... I will ask my team to drop an email',\n",
       "   'I will ask my team to send you an email',\n",
       "   'my team will drop an email',\n",
       "   'sure , i will ask my team to send you an email',\n",
       "   'our team will drop an email on the same',\n",
       "   'I will ask my team to drop an email ..',\n",
       "   'I will ask my team to drop an email as well',\n",
       "   'i will ask my team to send you an email',\n",
       "   'My team has sent you an email',\n",
       "   'ok sure I will ask my team to drop an email as well']},\n",
       " 'provide_phone_contact': {'2': [\"Sorry, we don't have a phone number. Please provide your number and we will contact you.\"],\n",
       "  '1': ['what is your whatsapp number?',\n",
       "   'do you have any contact no or is this medium to communicate?',\n",
       "   'Any number for doubts or only mail?',\n",
       "   'please provide working contact number of higher authority',\n",
       "   'could you please update contact number... So that I can get notification',\n",
       "   'Please tell me your mob no send me morning i am calling you']},\n",
       " 'noise': {'2': [\"I'm sorry, I don't understand\"],\n",
       "  '1': ['fg',\n",
       "   'poo',\n",
       "   'gay',\n",
       "   'jive',\n",
       "   'poo poo',\n",
       "   'bum',\n",
       "   '#fg',\n",
       "   'are you lost??',\n",
       "   'woow',\n",
       "   'fgfg',\n",
       "   'ff',\n",
       "   'gf',\n",
       "   'where r u Anju',\n",
       "   'sa',\n",
       "   ']',\n",
       "   'gb',\n",
       "   'fd\\\\',\n",
       "   'fsd',\n",
       "   'vf',\n",
       "   'fgdfg',\n",
       "   'fgdfgd',\n",
       "   'gg',\n",
       "   'gfg',\n",
       "   'fgf',\n",
       "   'fd',\n",
       "   'give me na']},\n",
       " 'greetings': {'1': ['Hi',\n",
       "   'Hi What are the difference between 145 and 80?',\n",
       "   'Hi anjali',\n",
       "   'Hi Anjali,',\n",
       "   'Hello,',\n",
       "   'Hey',\n",
       "   'Helloo',\n",
       "   'Hi Anjali',\n",
       "   'hii',\n",
       "   'Hello!',\n",
       "   'Hii',\n",
       "   'hello?',\n",
       "   'hi',\n",
       "   'Hi!!',\n",
       "   'hello there',\n",
       "   \"hello Ma'am you there?\",\n",
       "   'Hai',\n",
       "   'hello Anjali',\n",
       "   'Hellooo',\n",
       "   'hey',\n",
       "   'hi, i m back',\n",
       "   'Hello Anjali',\n",
       "   'hi ANJALI'],\n",
       "  '2': ['Hi', 'Hello']},\n",
       " 'how_are': {'1': ['I am doing great, how are you'],\n",
       "  '2': ['I am fine', \"I'm good thanks for asking\"]},\n",
       " 'i_get_back': {'1': ['I will decide in three days',\n",
       "   'I will get back to this chat.',\n",
       "   'not now..will let u knw..thank u..',\n",
       "   'yes ... but i wont b paying now...some days later',\n",
       "   'let me decide and come to you',\n",
       "   'not sure as of now',\n",
       "   'will think about it',\n",
       "   'i am not in rush to get it today',\n",
       "   \"I'll come back within a hour\",\n",
       "   'I am back, I am sorry, i had to run.',\n",
       "   'will contact soon.',\n",
       "   'ok Let me think and ping you again.',\n",
       "   'Its ok... I need some time to think',\n",
       "   'I will decide',\n",
       "   'ok...will chat after 30 mins',\n",
       "   'Anjali, can we chat after 30 mins? My wife is calling me for dinner',\n",
       "   'brb',\n",
       "   'Thanks for your offer, but i need some time',\n",
       "   'I will decide then i will message you i will take or not',\n",
       "   'Can I get back to you in some time?',\n",
       "   \"give me some time, I'm looking into them\",\n",
       "   'I will get back, give me some time, Its working like share market',\n",
       "   'In my view my budget is little tight.. so again I will get back to you',\n",
       "   'let me check and ping you in 2 mins',\n",
       "   'moment please',\n",
       "   'right now cant make teh payment',\n",
       "   'I will think about it. Thanks for your time and support',\n",
       "   'Hey I need some time to think',\n",
       "   'okay ..will contact you tomorrow'],\n",
       "  '2': ['Okay, no problem, take your time.']},\n",
       " 'you_get_back': {'1': ['Can you send me an email, I will think about this and will let you know'],\n",
       "  '2': ['My team can connect with you tomorrow']}}"
      ]
     },
     "execution_count": 63,
     "metadata": {},
     "output_type": "execute_result"
    }
   ],
   "source": [
    "intent_data"
   ]
  },
  {
   "cell_type": "code",
   "execution_count": 64,
   "metadata": {
    "jupyter": {
     "outputs_hidden": false
    }
   },
   "outputs": [],
   "source": [
    "# Class for preparing data for training.\n",
    "\n",
    "class PrepareData:\n",
    "\n",
    "\n",
    "    def __init__(self, json_data, intents):\n",
    "        '''Args:\n",
    "            json_data (str): Variable for path to json intents file.\n",
    "            intents (:obj: `list`): List of intents.\n",
    "        '''\n",
    "\n",
    "        # load intents data into dataframe\n",
    "        self.df = pd.DataFrame.from_dict(json_data)\n",
    "        \n",
    "        self.intents = intents\n",
    "\n",
    "        self.df_reformat = self._reformat_intents_df()\n",
    "        self.df_preprocessed = self._preprocess_utts()\n",
    "        df_one_hot_labels = self._encode_labels()\n",
    "        self.df_concat = pd.concat([self.df_preprocessed, df_one_hot_labels], axis=1)\n",
    "        self.df_train, self.df_val, self.df_test = self._get_train_val_test()\n",
    "        self.train_x, self.val_x, self.test_x, self.train_y, self.val_y, self.test_y = self._get_input_output()\n",
    "\n",
    "    def _reformat_intents_df(self):\n",
    "        '''Takes data frame, removes response column\n",
    "        and expands query list to individual rows with matching intent.'''\n",
    "\n",
    "        df_T =  self.df.T.reset_index()\n",
    "        df_T.columns = [\"intent\", \"query\", \"response\"]\n",
    "        df_drop_response = df_T.drop(columns=\"response\")\n",
    "        df_drop_response.intent = df_drop_response.intent.astype('category')\n",
    "        df_explode = df_drop_response.explode('query')\n",
    "        return df_explode\n",
    "\n",
    "    def _preprocess_utts(self):\n",
    "        '''Passes utterances through preprocessing\n",
    "        and deduplicates utterances of the same intent label.'''\n",
    "\n",
    "        self.df_reformat['query_preprocessed'] = self.df_reformat.apply(lambda row: Utt(row['query'], query=True).parse_utt(), axis = 1)\n",
    "        df_filter = self.df_reformat.dropna()\n",
    "        df_dedup = df_filter.drop_duplicates(subset=['intent', 'query'], keep='first')\n",
    "        return df_dedup\n",
    "\n",
    "    def _encode_labels(self):\n",
    "        '''One hot encodes labels.'''\n",
    "\n",
    "        df_one_hot_intents = pd.get_dummies(self.df_preprocessed.intent)\n",
    "        return df_one_hot_intents\n",
    "\n",
    "    def _get_train_val_test(self):\n",
    "        '''Split randomized data into train/eval/test with 80:10:10 ratio.'''\n",
    "\n",
    "        df_train, df_val, df_test = np.split(self.df_concat.sample(frac=1, random_state=42),\n",
    "                                             [int(.8*len(self.df_concat)), int(.9*len(self.df_concat))])\n",
    "        return df_train, df_val, df_test\n",
    "\n",
    "    def _get_input_output(self):\n",
    "        '''Converts input and output taxt and labels to numpy arrays.'''\n",
    "\n",
    "        train_queries_list = self.df_train['query_preprocessed'].tolist()\n",
    "        val_queries_list = self.df_val['query_preprocessed'].tolist()\n",
    "        test_queries_list = self.df_test['query_preprocessed'].tolist()\n",
    "\n",
    "        train_x = np.array(train_queries_list, dtype=object)[:, np.newaxis]\n",
    "        val_x = np.array(val_queries_list, dtype=object)[:, np.newaxis]\n",
    "        test_x = np.array(test_queries_list, dtype=object)[:, np.newaxis]\n",
    "\n",
    "        df_train_y = self.df_train.iloc[:,3:]\n",
    "        df_val_y = self.df_val.iloc[:,3:]\n",
    "        df_test_y = self.df_test.iloc[:,3:]\n",
    "\n",
    "        train_y = df_train_y.to_numpy()\n",
    "        val_y = df_val_y.to_numpy()\n",
    "        test_y = df_test_y.to_numpy()\n",
    "\n",
    "        return train_x, val_x, test_x, train_y, val_y, test_y"
   ]
  },
  {
   "cell_type": "code",
   "execution_count": 65,
   "metadata": {
    "jupyter": {
     "outputs_hidden": false
    }
   },
   "outputs": [],
   "source": [
    "prep = PrepareData(intent_data, intents)"
   ]
  },
  {
   "cell_type": "code",
   "execution_count": 66,
   "metadata": {
    "jupyter": {
     "outputs_hidden": false
    }
   },
   "outputs": [
    {
     "data": {
      "text/html": [
       "<div>\n",
       "<style scoped>\n",
       "    .dataframe tbody tr th:only-of-type {\n",
       "        vertical-align: middle;\n",
       "    }\n",
       "\n",
       "    .dataframe tbody tr th {\n",
       "        vertical-align: top;\n",
       "    }\n",
       "\n",
       "    .dataframe thead th {\n",
       "        text-align: right;\n",
       "    }\n",
       "</style>\n",
       "<table border=\"1\" class=\"dataframe\">\n",
       "  <thead>\n",
       "    <tr style=\"text-align: right;\">\n",
       "      <th></th>\n",
       "      <th>intent</th>\n",
       "      <th>query</th>\n",
       "      <th>query_preprocessed</th>\n",
       "    </tr>\n",
       "  </thead>\n",
       "  <tbody>\n",
       "    <tr>\n",
       "      <th>0</th>\n",
       "      <td>interview_resume</td>\n",
       "      <td>also can you help me with resume</td>\n",
       "      <td>also can you help I with resume</td>\n",
       "    </tr>\n",
       "    <tr>\n",
       "      <th>0</th>\n",
       "      <td>interview_resume</td>\n",
       "      <td>Do you have one to one resume prep</td>\n",
       "      <td>do you have one to one resume prep</td>\n",
       "    </tr>\n",
       "    <tr>\n",
       "      <th>0</th>\n",
       "      <td>interview_resume</td>\n",
       "      <td>also, can i get resume guidance as w...</td>\n",
       "      <td>also can get resume guidance as well</td>\n",
       "    </tr>\n",
       "    <tr>\n",
       "      <th>0</th>\n",
       "      <td>interview_resume</td>\n",
       "      <td>Any interview tips and guidance for ...</td>\n",
       "      <td>any interview tip and guidance for I...</td>\n",
       "    </tr>\n",
       "    <tr>\n",
       "      <th>0</th>\n",
       "      <td>interview_resume</td>\n",
       "      <td>Do i get resume tips and mock interv...</td>\n",
       "      <td>do get resume tip and mock interview...</td>\n",
       "    </tr>\n",
       "    <tr>\n",
       "      <th>...</th>\n",
       "      <td>...</td>\n",
       "      <td>...</td>\n",
       "      <td>...</td>\n",
       "    </tr>\n",
       "    <tr>\n",
       "      <th>39</th>\n",
       "      <td>i_get_back</td>\n",
       "      <td>right now cant make teh payment</td>\n",
       "      <td>right now can not make teh payment</td>\n",
       "    </tr>\n",
       "    <tr>\n",
       "      <th>39</th>\n",
       "      <td>i_get_back</td>\n",
       "      <td>I will think about it. Thanks for yo...</td>\n",
       "      <td>will think about it thank for your t...</td>\n",
       "    </tr>\n",
       "    <tr>\n",
       "      <th>39</th>\n",
       "      <td>i_get_back</td>\n",
       "      <td>Hey I need some time to think</td>\n",
       "      <td>hey need some time to think</td>\n",
       "    </tr>\n",
       "    <tr>\n",
       "      <th>39</th>\n",
       "      <td>i_get_back</td>\n",
       "      <td>okay ..will contact you tomorrow</td>\n",
       "      <td>okay will contact you tomorrow</td>\n",
       "    </tr>\n",
       "    <tr>\n",
       "      <th>40</th>\n",
       "      <td>you_get_back</td>\n",
       "      <td>Can you send me an email, I will thi...</td>\n",
       "      <td>can you send I an email will think a...</td>\n",
       "    </tr>\n",
       "  </tbody>\n",
       "</table>\n",
       "<p>459 rows × 3 columns</p>\n",
       "</div>"
      ],
      "text/plain": [
       "              intent                                    query  \\\n",
       "0   interview_resume         also can you help me with resume   \n",
       "0   interview_resume       Do you have one to one resume prep   \n",
       "0   interview_resume  also, can i get resume guidance as w...   \n",
       "0   interview_resume  Any interview tips and guidance for ...   \n",
       "0   interview_resume  Do i get resume tips and mock interv...   \n",
       "..               ...                                      ...   \n",
       "39        i_get_back          right now cant make teh payment   \n",
       "39        i_get_back  I will think about it. Thanks for yo...   \n",
       "39        i_get_back            Hey I need some time to think   \n",
       "39        i_get_back         okay ..will contact you tomorrow   \n",
       "40      you_get_back  Can you send me an email, I will thi...   \n",
       "\n",
       "                         query_preprocessed  \n",
       "0           also can you help I with resume  \n",
       "0        do you have one to one resume prep  \n",
       "0      also can get resume guidance as well  \n",
       "0   any interview tip and guidance for I...  \n",
       "0   do get resume tip and mock interview...  \n",
       "..                                      ...  \n",
       "39       right now can not make teh payment  \n",
       "39  will think about it thank for your t...  \n",
       "39              hey need some time to think  \n",
       "39           okay will contact you tomorrow  \n",
       "40  can you send I an email will think a...  \n",
       "\n",
       "[459 rows x 3 columns]"
      ]
     },
     "execution_count": 66,
     "metadata": {},
     "output_type": "execute_result"
    }
   ],
   "source": [
    "prep.df_preprocessed"
   ]
  },
  {
   "cell_type": "code",
   "execution_count": 67,
   "metadata": {
    "jupyter": {
     "outputs_hidden": false
    }
   },
   "outputs": [],
   "source": [
    "train_x, val_x, test_x, train_y, val_y, test_y = prep.train_x, prep.val_x, prep.test_x, prep.train_y, prep.val_y, prep.test_y"
   ]
  },
  {
   "cell_type": "code",
   "execution_count": 68,
   "metadata": {
    "jupyter": {
     "outputs_hidden": false
    }
   },
   "outputs": [],
   "source": [
    "# train_x.shape"
   ]
  },
  {
   "cell_type": "code",
   "execution_count": 69,
   "metadata": {
    "jupyter": {
     "outputs_hidden": false
    }
   },
   "outputs": [],
   "source": [
    "# val_x.shape"
   ]
  },
  {
   "cell_type": "code",
   "execution_count": 70,
   "metadata": {
    "jupyter": {
     "outputs_hidden": false
    }
   },
   "outputs": [],
   "source": [
    "# test_x.shape"
   ]
  },
  {
   "cell_type": "code",
   "execution_count": 71,
   "metadata": {
    "jupyter": {
     "outputs_hidden": false
    }
   },
   "outputs": [],
   "source": [
    "# train_y.shape"
   ]
  },
  {
   "cell_type": "code",
   "execution_count": 72,
   "metadata": {
    "jupyter": {
     "outputs_hidden": false
    }
   },
   "outputs": [],
   "source": [
    "# val_y.shape"
   ]
  },
  {
   "cell_type": "code",
   "execution_count": 73,
   "metadata": {
    "jupyter": {
     "outputs_hidden": false
    }
   },
   "outputs": [],
   "source": [
    "# test_y.shape"
   ]
  },
  {
   "cell_type": "markdown",
   "metadata": {
    "jupyter": {
     "outputs_hidden": false
    }
   },
   "source": [
    "## Train model"
   ]
  },
  {
   "cell_type": "code",
   "execution_count": 104,
   "metadata": {
    "jupyter": {
     "outputs_hidden": false
    },
    "tags": []
   },
   "outputs": [],
   "source": [
    "# Class tuning model and then training.\n",
    "\n",
    "class ModelTrain:\n",
    "    \n",
    "    def __init__(self, train_x, val_x, train_y, val_y, module_url):\n",
    "        '''Args:\n",
    "            train_x (array): Numpy array of training utterances.\n",
    "            val_x (array): Numpy array of validation utterances.\n",
    "            train_y (array): Numpy array of one hot encoded training labels.\n",
    "            val_y (array): Numpy array of one hot encoded validation labels.\n",
    "            module_url (str): Variable for url to pretrained Universal\n",
    "            Sentence Encoder model.\n",
    "        '''\n",
    "\n",
    "        self.train_x, self.val_x, self.train_y, self.val_y = train_x, val_x, train_y, val_y\n",
    "\n",
    "        # initialise input layer with pretrained USE weights\n",
    "        self.embed = hub.KerasLayer(module_url, input_shape=[], dtype=tf.string, trainable=True)\n",
    "\n",
    "        # hyperparamter tuning\n",
    "        self.tuner = keras_tuner.BayesianOptimization(\n",
    "            self._build_model,\n",
    "            objective=\"val_loss\",\n",
    "            max_trials=10,  #25\n",
    "            overwrite=True,\n",
    "            directory=\"outputs/hp_dir\",\n",
    "            project_name=\"tune_hypermodel\"\n",
    "        )\n",
    "\n",
    "        # Early stopping\n",
    "        self.early_stopping = tf.keras.callbacks.EarlyStopping(monitor='val_loss', patience=5, restore_best_weights=True)\n",
    "\n",
    "        self._tune_parameters()\n",
    "\n",
    "        # print best hyperparameters\n",
    "        best_hps = self.tuner.get_best_hyperparameters(num_trials=1)[0]\n",
    "\n",
    "        # configure model with best hyperparameters\n",
    "        self.model = self.tuner.hypermodel.build(best_hps)\n",
    "\n",
    "        self.best_epoch = self._get_best_epoch()\n",
    "\n",
    "        # monitor training on tensorboard\n",
    "        log_dir = \"log/intent_recognition/\" + datetime.datetime.now().strftime(\"%Y%m%d-%H%M%S\")\n",
    "        self.tensorboard_cb = keras.callbacks.TensorBoard(log_dir=log_dir)\n",
    "\n",
    "        self._train()\n",
    "\n",
    "        print('Training complete!')\n",
    "\n",
    "        # save model\n",
    "        # self.model.save(\"../outputs/saved_model_keras\")\n",
    "\n",
    "    # Kha --> Faced problem at the beginning to load the model with .pb format, but we managed to solve the problem\n",
    "        self.model.save(r'C:\\Users\\Administrator\\anaconda3\\Scripts\\ChatBot\\outputs\\saved_model_keras')\n",
    "    # ###\n",
    "    def _tune_parameters(self):\n",
    "        '''Performs hyperparameter tuning.'''\n",
    "\n",
    "        self.tuner.search(\n",
    "            self.train_x,\n",
    "            self.train_y,\n",
    "            epochs=10, # 10\n",
    "            validation_data=(self.val_x, self.val_y),\n",
    "            callbacks=[self.early_stopping]\n",
    "        )\n",
    "\n",
    "    def _get_best_epoch(self):\n",
    "        '''Gets best epoch number for training.'''\n",
    "\n",
    "        history = self.model.fit(\n",
    "            self.train_x,\n",
    "            self.train_y,\n",
    "            epochs=50, # 50\n",
    "            validation_data=(self.val_x, self.val_y),\n",
    "            callbacks=[self.early_stopping],\n",
    "            workers=4,\n",
    "            use_multiprocessing=True\n",
    "        )\n",
    "\n",
    "        val_loss_per_epoch = history.history['val_loss']\n",
    "        best_epoch = val_loss_per_epoch.index(max(val_loss_per_epoch)) + 1\n",
    "        print(f'Best epoch: {best_epoch}')\n",
    "\n",
    "        return best_epoch\n",
    "\n",
    "    def _build_model(self, hp):\n",
    "        '''Compile model'''\n",
    "\n",
    "        model = tf.keras.models.Sequential()\n",
    "        model.add(self.embed)\n",
    "        for i in range(hp.Int(\"num_layers\", 1, 3)):\n",
    "            model.add(\n",
    "                layers.Dense(\n",
    "                    units=hp.Int(\"units\", min_value=128, max_value=512, step=128),\n",
    "                    activation=hp.Choice(\"activation\", [\"relu\", \"tanh\", \"sigmoid\"])\n",
    "                )\n",
    "            )\n",
    "            model.add(\n",
    "                layers.Dropout(\n",
    "                    hp.Choice('dropout_rate', values=[0.1, 0.3, 0.5])\n",
    "                )\n",
    "            )\n",
    "        model.add(layers.Dense(41, activation=\"softmax\"))\n",
    "        learning_rate = hp.Choice('lr', values=[1e-2, 1e-3, 1e-4])\n",
    "        model.compile(\n",
    "            loss='categorical_crossentropy',\n",
    "            optimizer=keras.optimizers.Adam(learning_rate=learning_rate),\n",
    "            metrics=['categorical_accuracy']\n",
    "        )\n",
    "        return model\n",
    "\n",
    "    def get_search_summary(self):\n",
    "        '''Get summary of hyperparameter search space.'''\n",
    "\n",
    "        return self.tuner.search_space_summary()\n",
    "\n",
    "    def get_results_summary(self):\n",
    "        '''Get summary of tuning results.'''\n",
    "\n",
    "        return self.tuner.results_summary()\n",
    "\n",
    "    def get_model_summary(self):\n",
    "        '''Get summary of final model.'''\n",
    "\n",
    "        return self.model.summary()\n",
    "\n",
    "    def get_model_diagram(self):\n",
    "        '''Get diagram of model architecture.'''\n",
    "\n",
    "        return keras.utils.plot_model(self.model, \"Model_Diagram.png\", show_shapes=True)\n",
    "\n",
    "    def _train(self):\n",
    "        '''Train the model.'''\n",
    "\n",
    "        # Train the model one final time while saving the best model.\n",
    "        history = self.model.fit(\n",
    "            self.train_x,\n",
    "            self.train_y,\n",
    "            epochs=self.best_epoch,\n",
    "            validation_data=(self.val_x, self.val_y),\n",
    "            callbacks=[self.early_stopping, self.tensorboard_cb],\n",
    "            workers=4,\n",
    "            use_multiprocessing=True\n",
    "        )\n",
    "\n",
    "\n",
    "        with open(r'C:\\Users\\Administrator\\anaconda3\\Scripts\\ChatBot\\outputs\\HistoryDict', 'wb') as f:\n",
    "            pickle.dump(history.history, f)"
   ]
  },
  {
   "cell_type": "code",
   "execution_count": 80,
   "metadata": {
    "jupyter": {
     "outputs_hidden": false
    }
   },
   "outputs": [
    {
     "name": "stdout",
     "output_type": "stream",
     "text": [
      "Trial 10 Complete [00h 03m 19s]\n",
      "val_loss: 1.7058837413787842\n",
      "\n",
      "Best val_loss So Far: 1.0128778219223022\n",
      "Total elapsed time: 00h 46m 04s\n",
      "INFO:tensorflow:Oracle triggered exit\n",
      "Epoch 1/50\n",
      "12/12 [==============================] - 31s 2s/step - loss: 2.1269 - categorical_accuracy: 0.7221 - val_loss: 1.3993 - val_categorical_accuracy: 0.6739\n",
      "Epoch 2/50\n",
      "12/12 [==============================] - 25s 2s/step - loss: 0.4061 - categorical_accuracy: 0.9292 - val_loss: 1.2242 - val_categorical_accuracy: 0.7609\n",
      "Epoch 3/50\n",
      "12/12 [==============================] - 25s 2s/step - loss: 0.1992 - categorical_accuracy: 0.9510 - val_loss: 1.7441 - val_categorical_accuracy: 0.6957\n",
      "Epoch 4/50\n",
      "12/12 [==============================] - 25s 2s/step - loss: 0.1367 - categorical_accuracy: 0.9700 - val_loss: 1.5959 - val_categorical_accuracy: 0.6957\n",
      "Epoch 5/50\n",
      "12/12 [==============================] - 25s 2s/step - loss: 0.0968 - categorical_accuracy: 0.9755 - val_loss: 1.6219 - val_categorical_accuracy: 0.6957\n",
      "Epoch 6/50\n",
      "12/12 [==============================] - 25s 2s/step - loss: 0.0668 - categorical_accuracy: 0.9782 - val_loss: 1.6169 - val_categorical_accuracy: 0.6957\n",
      "Epoch 7/50\n",
      "12/12 [==============================] - 26s 2s/step - loss: 0.0521 - categorical_accuracy: 0.9864 - val_loss: 1.4687 - val_categorical_accuracy: 0.7174\n",
      "Best epoch: 3\n",
      "Epoch 1/3\n",
      "12/12 [==============================] - 27s 2s/step - loss: 0.2257 - categorical_accuracy: 0.9510 - val_loss: 1.2949 - val_categorical_accuracy: 0.7609\n",
      "Epoch 2/3\n",
      "12/12 [==============================] - 25s 2s/step - loss: 0.1365 - categorical_accuracy: 0.9673 - val_loss: 1.4841 - val_categorical_accuracy: 0.6957\n",
      "Epoch 3/3\n",
      "12/12 [==============================] - 25s 2s/step - loss: 0.0965 - categorical_accuracy: 0.9782 - val_loss: 1.3726 - val_categorical_accuracy: 0.6739\n",
      "Training complete!\n",
      "INFO:tensorflow:Assets written to: C:\\Users\\Administrator\\anaconda3\\Scripts\\ChatBot\\outputs\\saved_model_keras_01\\assets\n"
     ]
    }
   ],
   "source": [
    "# Kha\n",
    "\n",
    "train = ModelTrain(train_x, val_x, train_y, val_y, module_url) "
   ]
  },
  {
   "cell_type": "code",
   "execution_count": 82,
   "metadata": {
    "jupyter": {
     "outputs_hidden": false
    }
   },
   "outputs": [
    {
     "name": "stdout",
     "output_type": "stream",
     "text": [
      "Search space summary\n",
      "Default search space size: 5\n",
      "num_layers (Int)\n",
      "{'default': None, 'conditions': [], 'min_value': 1, 'max_value': 3, 'step': 1, 'sampling': None}\n",
      "units (Int)\n",
      "{'default': None, 'conditions': [], 'min_value': 128, 'max_value': 512, 'step': 128, 'sampling': None}\n",
      "activation (Choice)\n",
      "{'default': 'relu', 'conditions': [], 'values': ['relu', 'tanh', 'sigmoid'], 'ordered': False}\n",
      "dropout_rate (Choice)\n",
      "{'default': 0.1, 'conditions': [], 'values': [0.1, 0.3, 0.5], 'ordered': True}\n",
      "lr (Choice)\n",
      "{'default': 0.01, 'conditions': [], 'values': [0.01, 0.001, 0.0001], 'ordered': True}\n"
     ]
    }
   ],
   "source": [
    "train.get_search_summary()"
   ]
  },
  {
   "cell_type": "code",
   "execution_count": 83,
   "metadata": {
    "jupyter": {
     "outputs_hidden": false
    }
   },
   "outputs": [
    {
     "name": "stdout",
     "output_type": "stream",
     "text": [
      "Results summary\n",
      "Results in outputs/hp_dir\\tune_hypermodel\n",
      "Showing 10 best trials\n",
      "<keras_tuner.engine.objective.Objective object at 0x000001F91232B5E0>\n",
      "Trial summary\n",
      "Hyperparameters:\n",
      "num_layers: 1\n",
      "units: 128\n",
      "activation: relu\n",
      "dropout_rate: 0.1\n",
      "lr: 0.01\n",
      "Score: 1.0128778219223022\n",
      "Trial summary\n",
      "Hyperparameters:\n",
      "num_layers: 1\n",
      "units: 128\n",
      "activation: relu\n",
      "dropout_rate: 0.5\n",
      "lr: 0.01\n",
      "Score: 1.1234216690063477\n",
      "Trial summary\n",
      "Hyperparameters:\n",
      "num_layers: 1\n",
      "units: 128\n",
      "activation: sigmoid\n",
      "dropout_rate: 0.1\n",
      "lr: 0.01\n",
      "Score: 1.152093768119812\n",
      "Trial summary\n",
      "Hyperparameters:\n",
      "num_layers: 2\n",
      "units: 128\n",
      "activation: relu\n",
      "dropout_rate: 0.3\n",
      "lr: 0.01\n",
      "Score: 1.1816575527191162\n",
      "Trial summary\n",
      "Hyperparameters:\n",
      "num_layers: 1\n",
      "units: 512\n",
      "activation: relu\n",
      "dropout_rate: 0.5\n",
      "lr: 0.01\n",
      "Score: 1.2995661497116089\n",
      "Trial summary\n",
      "Hyperparameters:\n",
      "num_layers: 1\n",
      "units: 512\n",
      "activation: relu\n",
      "dropout_rate: 0.1\n",
      "lr: 0.01\n",
      "Score: 1.3821074962615967\n",
      "Trial summary\n",
      "Hyperparameters:\n",
      "num_layers: 3\n",
      "units: 512\n",
      "activation: relu\n",
      "dropout_rate: 0.5\n",
      "lr: 0.01\n",
      "Score: 1.7058837413787842\n",
      "Trial summary\n",
      "Hyperparameters:\n",
      "num_layers: 2\n",
      "units: 384\n",
      "activation: sigmoid\n",
      "dropout_rate: 0.5\n",
      "lr: 0.001\n",
      "Score: 2.6239802837371826\n",
      "Trial summary\n",
      "Hyperparameters:\n",
      "num_layers: 3\n",
      "units: 256\n",
      "activation: sigmoid\n",
      "dropout_rate: 0.1\n",
      "lr: 0.0001\n",
      "Score: 3.2130684852600098\n",
      "Trial summary\n",
      "Hyperparameters:\n",
      "num_layers: 1\n",
      "units: 128\n",
      "activation: relu\n",
      "dropout_rate: 0.3\n",
      "lr: 0.0001\n",
      "Score: 3.3586623668670654\n"
     ]
    }
   ],
   "source": [
    "train.get_results_summary()"
   ]
  },
  {
   "cell_type": "code",
   "execution_count": 84,
   "metadata": {
    "jupyter": {
     "outputs_hidden": false
    }
   },
   "outputs": [
    {
     "name": "stdout",
     "output_type": "stream",
     "text": [
      "Model: \"sequential_1\"\n",
      "_________________________________________________________________\n",
      " Layer (type)                Output Shape              Param #   \n",
      "=================================================================\n",
      " keras_layer (KerasLayer)    (None, 512)               256797824 \n",
      "                                                                 \n",
      " dense_4 (Dense)             (None, 128)               65664     \n",
      "                                                                 \n",
      " dropout_3 (Dropout)         (None, 128)               0         \n",
      "                                                                 \n",
      " dense_5 (Dense)             (None, 41)                5289      \n",
      "                                                                 \n",
      "=================================================================\n",
      "Total params: 256,868,777\n",
      "Trainable params: 256,868,777\n",
      "Non-trainable params: 0\n",
      "_________________________________________________________________\n"
     ]
    }
   ],
   "source": [
    "train.get_model_summary()"
   ]
  },
  {
   "cell_type": "code",
   "execution_count": 85,
   "metadata": {},
   "outputs": [
    {
     "name": "stdout",
     "output_type": "stream",
     "text": [
      "Requirement already satisfied: pydot in c:\\users\\administrator\\anaconda3\\envs\\myenv\\lib\\site-packages (3.0.2)\n",
      "Requirement already satisfied: graphviz in c:\\users\\administrator\\anaconda3\\envs\\myenv\\lib\\site-packages (0.20.3)\n",
      "Requirement already satisfied: pyparsing>=3.0.9 in c:\\users\\administrator\\anaconda3\\envs\\myenv\\lib\\site-packages (from pydot) (3.1.4)\n"
     ]
    }
   ],
   "source": [
    "!pip install pydot graphviz"
   ]
  },
  {
   "cell_type": "code",
   "execution_count": 86,
   "metadata": {},
   "outputs": [],
   "source": [
    "# import pydot\n",
    "# import graphviz"
   ]
  },
  {
   "cell_type": "markdown",
   "metadata": {
    "jupyter": {
     "outputs_hidden": false
    }
   },
   "source": [
    "## Evaluate model"
   ]
  },
  {
   "cell_type": "code",
   "execution_count": 88,
   "metadata": {
    "jupyter": {
     "outputs_hidden": false
    }
   },
   "outputs": [],
   "source": [
    "# Class for model evaluation\n",
    "\n",
    "class Eval:\n",
    "\n",
    "    def __init__(self, model, td, intents, test_x, test_y):\n",
    "        '''Args:\n",
    "            model (str): Variable name for model path.\n",
    "            td (:obj:, `dataframe`): Dataframe from prapare data object.\n",
    "            intents (:obj:`list`): Ordered list of intent labels.\n",
    "            test_x (array): Numpy array of test utterances.\n",
    "            test_y (array): Numpy array of one hot encoded test labels.\n",
    "        '''\n",
    "\n",
    "        self.test_x = test_x\n",
    "        self.test_y = test_y\n",
    "        \n",
    "        self.intents = intents\n",
    "\n",
    "        # get column containing labels of test data\n",
    "        self.df_test = td.df_test.iloc[:, 0:1]\n",
    "        \n",
    "        # get label predictions of test inputs\n",
    "        predicts = model.predict(self.test_x, batch_size=32)\n",
    "\n",
    "        # Get predicted labels that are above 0.5 probability\n",
    "        self.predict_logits = predicts.argmax(axis=1)        \n",
    "        \n",
    "        self.predicted_labels = [self.intents[logit] for logit in self.predict_logits]\n",
    "        \n",
    "        self.test_y_rounded = np.argmax(self.test_y, axis=1)\n",
    "        self.model = model\n",
    "\n",
    "    def get_test_loss_acc(self):\n",
    "        '''Get accuracy and loss of test data.'''\n",
    "\n",
    "        test_scores = self.model.evaluate(self.test_x, self.test_y, verbose=2)\n",
    "        print(\"Test loss:\", test_scores[0])\n",
    "        print(\"Test accuracy:\", test_scores[1])\n",
    "\n",
    "\n",
    "    def get_accuracy_plot(self, history):\n",
    "        '''Plot test accuracy against training accuracy.'''\n",
    "\n",
    "        # plt.plot(history['accuracy'])\n",
    "# Kha\n",
    "        plt.plot(history['categorical_accuracy'])\n",
    "####        \n",
    "        plt.plot(history['val_categorical_accuracy'])\n",
    "        plt.title('Model Accuracy')\n",
    "        # plt.ylabel('Accuracy')\n",
    "# Kha\n",
    "        plt.ylabel('categorical_accuracy')\n",
    "####  \n",
    "        \n",
    "        plt.xlabel('Epoch')\n",
    "        plt.legend(['Train', 'Validation'], loc='upper left')\n",
    "        plt.show()\n",
    "\n",
    "    def get_loss_plot(self, history):\n",
    "        '''Plot test loss against training loss.'''\n",
    "\n",
    "        plt.plot(history['loss'])\n",
    "        plt.plot(history['val_loss'])\n",
    "        plt.title('Model Loss')\n",
    "        plt.ylabel('Loss')\n",
    "        plt.xlabel('Epoch')\n",
    "        plt.legend(['Train', 'Validation'], loc='upper left')\n",
    "        plt.show()\n",
    "\n",
    "    def compare_predicted_intents(self):\n",
    "        '''Get table of predicted vs actuals intent labels.'''\n",
    "\n",
    "        self.df_test['predicted_intent'] = self.predicted_labels\n",
    "        print(self.df_test)\n",
    "\n",
    "    def get_fscore(self):\n",
    "        '''Get f-score of predicted labels.'''\n",
    "\n",
    "        return pd.DataFrame(classification_report(self.test_y_rounded, self.predict_logits, output_dict=True)).T\n",
    "\n",
    "    def get_confusion_matrix(self):\n",
    "        '''Get confusion matrix of predicted vs actual labels.'''\n",
    "\n",
    "        cm = confusion_matrix(self.test_y_rounded, self.predict_logits)\n",
    "        cm_display = sklearn.metrics.ConfusionMatrixDisplay(confusion_matrix = cm)\n",
    "        cm_display.plot()\n",
    "        plt.show() "
   ]
  },
  {
   "cell_type": "code",
   "execution_count": null,
   "metadata": {},
   "outputs": [],
   "source": [
    "# Kha\n",
    "print(history.keys())"
   ]
  },
  {
   "cell_type": "code",
   "execution_count": 106,
   "metadata": {
    "jupyter": {
     "outputs_hidden": false
    }
   },
   "outputs": [],
   "source": [
    "# Loading the model after training it\n",
    "\n",
    "model = load_model(MODEL_PATH)"
   ]
  },
  {
   "cell_type": "code",
   "execution_count": 107,
   "metadata": {
    "jupyter": {
     "outputs_hidden": false
    }
   },
   "outputs": [],
   "source": [
    "evaluate = Eval(model, prep, intents, test_x, test_y)"
   ]
  },
  {
   "cell_type": "code",
   "execution_count": 108,
   "metadata": {
    "jupyter": {
     "outputs_hidden": false
    }
   },
   "outputs": [
    {
     "name": "stdout",
     "output_type": "stream",
     "text": [
      "2/2 - 0s - loss: 2.8202 - categorical_accuracy: 0.6739 - 459ms/epoch - 229ms/step\n",
      "Test loss: 2.8201961517333984\n",
      "Test accuracy: 0.6739130616188049\n"
     ]
    }
   ],
   "source": [
    "evaluate.get_test_loss_acc()"
   ]
  },
  {
   "cell_type": "code",
   "execution_count": 109,
   "metadata": {
    "jupyter": {
     "outputs_hidden": false
    }
   },
   "outputs": [],
   "source": [
    "history = pickle.load(open(MODEL_HISTORY, \"rb\"))"
   ]
  },
  {
   "cell_type": "code",
   "execution_count": 110,
   "metadata": {
    "jupyter": {
     "outputs_hidden": false
    }
   },
   "outputs": [
    {
     "data": {
      "image/png": "[encoded data removed]",
      "text/plain": [
       "<Figure size 640x480 with 1 Axes>"
      ]
     },
     "metadata": {},
     "output_type": "display_data"
    }
   ],
   "source": [
    "evaluate.get_accuracy_plot(history)"
   ]
  },
  {
   "cell_type": "code",
   "execution_count": 111,
   "metadata": {
    "jupyter": {
     "outputs_hidden": false
    }
   },
   "outputs": [
    {
     "data": {
      "image/png": "[encoded data removed]",
      "text/plain": [
       "<Figure size 640x480 with 1 Axes>"
      ]
     },
     "metadata": {},
     "output_type": "display_data"
    }
   ],
   "source": [
    "evaluate.get_loss_plot(history)"
   ]
  },
  {
   "cell_type": "code",
   "execution_count": 112,
   "metadata": {
    "jupyter": {
     "outputs_hidden": false
    }
   },
   "outputs": [
    {
     "name": "stdout",
     "output_type": "stream",
     "text": [
      "                  intent      predicted_intent\n",
      "39            i_get_back            i_get_back\n",
      "30          project_want          project_want\n",
      "26              thanking              thanking\n",
      "9           payment_link            enrollment\n",
      "34            give_email            give_email\n",
      "8               location          payment_link\n",
      "25       demo_discussion            enrollment\n",
      "26              thanking              thanking\n",
      "39            i_get_back              thanking\n",
      "26              thanking              thanking\n",
      "25       demo_discussion       demo_discussion\n",
      "10                Paypal       cancel_X_months\n",
      "7                  MLOPS          offer_trials\n",
      "31           refund_info           refund_info\n",
      "26              thanking              thanking\n",
      "26              thanking              thanking\n",
      "2           download_can            enrollment\n",
      "30          project_want          project_want\n",
      "24            projectpro                  cost\n",
      "28      discount_student      discount_student\n",
      "26              thanking              thanking\n",
      "36                 noise                 noise\n",
      "29            enrollment          installments\n",
      "37             greetings             greetings\n",
      "31           refund_info           refund_info\n",
      "27              discount              discount\n",
      "30          project_want          project_want\n",
      "18      monthly_payments      monthly_payments\n",
      "18      monthly_payments      monthly_payments\n",
      "19              12_month              6_months\n",
      "34            give_email            give_email\n",
      "17  monthly_subscription  monthly_subscription\n",
      "34            give_email            give_email\n",
      "15                  cost                  cost\n",
      "31           refund_info  monthly_subscription\n",
      "26              thanking              thanking\n",
      "17  monthly_subscription  monthly_subscription\n",
      "40          you_get_back            give_email\n",
      "2           download_can          download_can\n",
      "26              thanking              thanking\n",
      "13                 renew      monthly_payments\n",
      "17  monthly_subscription  monthly_subscription\n",
      "27              discount      monthly_payments\n",
      "31           refund_info      monthly_payments\n",
      "39            i_get_back            i_get_back\n",
      "17  monthly_subscription  monthly_subscription\n"
     ]
    }
   ],
   "source": [
    "evaluate.compare_predicted_intents()"
   ]
  },
  {
   "cell_type": "code",
   "execution_count": 113,
   "metadata": {
    "jupyter": {
     "outputs_hidden": false
    }
   },
   "outputs": [
    {
     "name": "stderr",
     "output_type": "stream",
     "text": [
      "C:\\Users\\Administrator\\anaconda3\\envs\\myenv\\lib\\site-packages\\sklearn\\metrics\\_classification.py:1531: UndefinedMetricWarning: Precision is ill-defined and being set to 0.0 in labels with no predicted samples. Use `zero_division` parameter to control this behavior.\n",
      "  _warn_prf(average, modifier, f\"{metric.capitalize()} is\", len(result))\n",
      "C:\\Users\\Administrator\\anaconda3\\envs\\myenv\\lib\\site-packages\\sklearn\\metrics\\_classification.py:1531: UndefinedMetricWarning: Recall is ill-defined and being set to 0.0 in labels with no true samples. Use `zero_division` parameter to control this behavior.\n",
      "  _warn_prf(average, modifier, f\"{metric.capitalize()} is\", len(result))\n",
      "C:\\Users\\Administrator\\anaconda3\\envs\\myenv\\lib\\site-packages\\sklearn\\metrics\\_classification.py:1531: UndefinedMetricWarning: Precision is ill-defined and being set to 0.0 in labels with no predicted samples. Use `zero_division` parameter to control this behavior.\n",
      "  _warn_prf(average, modifier, f\"{metric.capitalize()} is\", len(result))\n",
      "C:\\Users\\Administrator\\anaconda3\\envs\\myenv\\lib\\site-packages\\sklearn\\metrics\\_classification.py:1531: UndefinedMetricWarning: Recall is ill-defined and being set to 0.0 in labels with no true samples. Use `zero_division` parameter to control this behavior.\n",
      "  _warn_prf(average, modifier, f\"{metric.capitalize()} is\", len(result))\n",
      "C:\\Users\\Administrator\\anaconda3\\envs\\myenv\\lib\\site-packages\\sklearn\\metrics\\_classification.py:1531: UndefinedMetricWarning: Precision is ill-defined and being set to 0.0 in labels with no predicted samples. Use `zero_division` parameter to control this behavior.\n",
      "  _warn_prf(average, modifier, f\"{metric.capitalize()} is\", len(result))\n",
      "C:\\Users\\Administrator\\anaconda3\\envs\\myenv\\lib\\site-packages\\sklearn\\metrics\\_classification.py:1531: UndefinedMetricWarning: Recall is ill-defined and being set to 0.0 in labels with no true samples. Use `zero_division` parameter to control this behavior.\n",
      "  _warn_prf(average, modifier, f\"{metric.capitalize()} is\", len(result))\n"
     ]
    },
    {
     "data": {
      "text/html": [
       "<div>\n",
       "<style scoped>\n",
       "    .dataframe tbody tr th:only-of-type {\n",
       "        vertical-align: middle;\n",
       "    }\n",
       "\n",
       "    .dataframe tbody tr th {\n",
       "        vertical-align: top;\n",
       "    }\n",
       "\n",
       "    .dataframe thead th {\n",
       "        text-align: right;\n",
       "    }\n",
       "</style>\n",
       "<table border=\"1\" class=\"dataframe\">\n",
       "  <thead>\n",
       "    <tr style=\"text-align: right;\">\n",
       "      <th></th>\n",
       "      <th>precision</th>\n",
       "      <th>recall</th>\n",
       "      <th>f1-score</th>\n",
       "      <th>support</th>\n",
       "    </tr>\n",
       "  </thead>\n",
       "  <tbody>\n",
       "    <tr>\n",
       "      <th>0</th>\n",
       "      <td>0.000000</td>\n",
       "      <td>0.000000</td>\n",
       "      <td>0.000000</td>\n",
       "      <td>1.000000</td>\n",
       "    </tr>\n",
       "    <tr>\n",
       "      <th>2</th>\n",
       "      <td>0.000000</td>\n",
       "      <td>0.000000</td>\n",
       "      <td>0.000000</td>\n",
       "      <td>0.000000</td>\n",
       "    </tr>\n",
       "    <tr>\n",
       "      <th>4</th>\n",
       "      <td>0.000000</td>\n",
       "      <td>0.000000</td>\n",
       "      <td>0.000000</td>\n",
       "      <td>1.000000</td>\n",
       "    </tr>\n",
       "    <tr>\n",
       "      <th>5</th>\n",
       "      <td>0.000000</td>\n",
       "      <td>0.000000</td>\n",
       "      <td>0.000000</td>\n",
       "      <td>1.000000</td>\n",
       "    </tr>\n",
       "    <tr>\n",
       "      <th>8</th>\n",
       "      <td>0.000000</td>\n",
       "      <td>0.000000</td>\n",
       "      <td>0.000000</td>\n",
       "      <td>0.000000</td>\n",
       "    </tr>\n",
       "    <tr>\n",
       "      <th>10</th>\n",
       "      <td>0.500000</td>\n",
       "      <td>1.000000</td>\n",
       "      <td>0.666667</td>\n",
       "      <td>1.000000</td>\n",
       "    </tr>\n",
       "    <tr>\n",
       "      <th>11</th>\n",
       "      <td>1.000000</td>\n",
       "      <td>0.500000</td>\n",
       "      <td>0.666667</td>\n",
       "      <td>2.000000</td>\n",
       "    </tr>\n",
       "    <tr>\n",
       "      <th>12</th>\n",
       "      <td>1.000000</td>\n",
       "      <td>0.500000</td>\n",
       "      <td>0.666667</td>\n",
       "      <td>2.000000</td>\n",
       "    </tr>\n",
       "    <tr>\n",
       "      <th>13</th>\n",
       "      <td>1.000000</td>\n",
       "      <td>1.000000</td>\n",
       "      <td>1.000000</td>\n",
       "      <td>1.000000</td>\n",
       "    </tr>\n",
       "    <tr>\n",
       "      <th>14</th>\n",
       "      <td>1.000000</td>\n",
       "      <td>0.500000</td>\n",
       "      <td>0.666667</td>\n",
       "      <td>2.000000</td>\n",
       "    </tr>\n",
       "    <tr>\n",
       "      <th>18</th>\n",
       "      <td>0.000000</td>\n",
       "      <td>0.000000</td>\n",
       "      <td>0.000000</td>\n",
       "      <td>1.000000</td>\n",
       "    </tr>\n",
       "    <tr>\n",
       "      <th>19</th>\n",
       "      <td>0.750000</td>\n",
       "      <td>1.000000</td>\n",
       "      <td>0.857143</td>\n",
       "      <td>3.000000</td>\n",
       "    </tr>\n",
       "    <tr>\n",
       "      <th>20</th>\n",
       "      <td>1.000000</td>\n",
       "      <td>1.000000</td>\n",
       "      <td>1.000000</td>\n",
       "      <td>1.000000</td>\n",
       "    </tr>\n",
       "    <tr>\n",
       "      <th>22</th>\n",
       "      <td>1.000000</td>\n",
       "      <td>0.666667</td>\n",
       "      <td>0.800000</td>\n",
       "      <td>3.000000</td>\n",
       "    </tr>\n",
       "    <tr>\n",
       "      <th>23</th>\n",
       "      <td>0.000000</td>\n",
       "      <td>0.000000</td>\n",
       "      <td>0.000000</td>\n",
       "      <td>0.000000</td>\n",
       "    </tr>\n",
       "    <tr>\n",
       "      <th>26</th>\n",
       "      <td>0.000000</td>\n",
       "      <td>0.000000</td>\n",
       "      <td>0.000000</td>\n",
       "      <td>1.000000</td>\n",
       "    </tr>\n",
       "    <tr>\n",
       "      <th>27</th>\n",
       "      <td>0.400000</td>\n",
       "      <td>1.000000</td>\n",
       "      <td>0.571429</td>\n",
       "      <td>2.000000</td>\n",
       "    </tr>\n",
       "    <tr>\n",
       "      <th>28</th>\n",
       "      <td>0.800000</td>\n",
       "      <td>1.000000</td>\n",
       "      <td>0.888889</td>\n",
       "      <td>4.000000</td>\n",
       "    </tr>\n",
       "    <tr>\n",
       "      <th>29</th>\n",
       "      <td>1.000000</td>\n",
       "      <td>1.000000</td>\n",
       "      <td>1.000000</td>\n",
       "      <td>1.000000</td>\n",
       "    </tr>\n",
       "    <tr>\n",
       "      <th>30</th>\n",
       "      <td>0.000000</td>\n",
       "      <td>0.000000</td>\n",
       "      <td>0.000000</td>\n",
       "      <td>0.000000</td>\n",
       "    </tr>\n",
       "    <tr>\n",
       "      <th>31</th>\n",
       "      <td>0.000000</td>\n",
       "      <td>0.000000</td>\n",
       "      <td>0.000000</td>\n",
       "      <td>1.000000</td>\n",
       "    </tr>\n",
       "    <tr>\n",
       "      <th>33</th>\n",
       "      <td>1.000000</td>\n",
       "      <td>1.000000</td>\n",
       "      <td>1.000000</td>\n",
       "      <td>3.000000</td>\n",
       "    </tr>\n",
       "    <tr>\n",
       "      <th>34</th>\n",
       "      <td>0.000000</td>\n",
       "      <td>0.000000</td>\n",
       "      <td>0.000000</td>\n",
       "      <td>1.000000</td>\n",
       "    </tr>\n",
       "    <tr>\n",
       "      <th>36</th>\n",
       "      <td>1.000000</td>\n",
       "      <td>0.500000</td>\n",
       "      <td>0.666667</td>\n",
       "      <td>4.000000</td>\n",
       "    </tr>\n",
       "    <tr>\n",
       "      <th>38</th>\n",
       "      <td>0.000000</td>\n",
       "      <td>0.000000</td>\n",
       "      <td>0.000000</td>\n",
       "      <td>1.000000</td>\n",
       "    </tr>\n",
       "    <tr>\n",
       "      <th>39</th>\n",
       "      <td>0.888889</td>\n",
       "      <td>1.000000</td>\n",
       "      <td>0.941176</td>\n",
       "      <td>8.000000</td>\n",
       "    </tr>\n",
       "    <tr>\n",
       "      <th>40</th>\n",
       "      <td>0.000000</td>\n",
       "      <td>0.000000</td>\n",
       "      <td>0.000000</td>\n",
       "      <td>1.000000</td>\n",
       "    </tr>\n",
       "    <tr>\n",
       "      <th>accuracy</th>\n",
       "      <td>0.673913</td>\n",
       "      <td>0.673913</td>\n",
       "      <td>0.673913</td>\n",
       "      <td>0.673913</td>\n",
       "    </tr>\n",
       "    <tr>\n",
       "      <th>macro avg</th>\n",
       "      <td>0.456996</td>\n",
       "      <td>0.432099</td>\n",
       "      <td>0.421925</td>\n",
       "      <td>46.000000</td>\n",
       "    </tr>\n",
       "    <tr>\n",
       "      <th>weighted avg</th>\n",
       "      <td>0.714372</td>\n",
       "      <td>0.673913</td>\n",
       "      <td>0.663752</td>\n",
       "      <td>46.000000</td>\n",
       "    </tr>\n",
       "  </tbody>\n",
       "</table>\n",
       "</div>"
      ],
      "text/plain": [
       "              precision    recall  f1-score    support\n",
       "0              0.000000  0.000000  0.000000   1.000000\n",
       "2              0.000000  0.000000  0.000000   0.000000\n",
       "4              0.000000  0.000000  0.000000   1.000000\n",
       "5              0.000000  0.000000  0.000000   1.000000\n",
       "8              0.000000  0.000000  0.000000   0.000000\n",
       "10             0.500000  1.000000  0.666667   1.000000\n",
       "11             1.000000  0.500000  0.666667   2.000000\n",
       "12             1.000000  0.500000  0.666667   2.000000\n",
       "13             1.000000  1.000000  1.000000   1.000000\n",
       "14             1.000000  0.500000  0.666667   2.000000\n",
       "18             0.000000  0.000000  0.000000   1.000000\n",
       "19             0.750000  1.000000  0.857143   3.000000\n",
       "20             1.000000  1.000000  1.000000   1.000000\n",
       "22             1.000000  0.666667  0.800000   3.000000\n",
       "23             0.000000  0.000000  0.000000   0.000000\n",
       "26             0.000000  0.000000  0.000000   1.000000\n",
       "27             0.400000  1.000000  0.571429   2.000000\n",
       "28             0.800000  1.000000  0.888889   4.000000\n",
       "29             1.000000  1.000000  1.000000   1.000000\n",
       "30             0.000000  0.000000  0.000000   0.000000\n",
       "31             0.000000  0.000000  0.000000   1.000000\n",
       "33             1.000000  1.000000  1.000000   3.000000\n",
       "34             0.000000  0.000000  0.000000   1.000000\n",
       "36             1.000000  0.500000  0.666667   4.000000\n",
       "38             0.000000  0.000000  0.000000   1.000000\n",
       "39             0.888889  1.000000  0.941176   8.000000\n",
       "40             0.000000  0.000000  0.000000   1.000000\n",
       "accuracy       0.673913  0.673913  0.673913   0.673913\n",
       "macro avg      0.456996  0.432099  0.421925  46.000000\n",
       "weighted avg   0.714372  0.673913  0.663752  46.000000"
      ]
     },
     "execution_count": 113,
     "metadata": {},
     "output_type": "execute_result"
    }
   ],
   "source": [
    "evaluate.get_fscore()"
   ]
  },
  {
   "cell_type": "code",
   "execution_count": 114,
   "metadata": {
    "jupyter": {
     "outputs_hidden": false
    }
   },
   "outputs": [
    {
     "data": {
      "image/png": "[encoded data removed]",
      "text/plain": [
       "<Figure size 640x480 with 2 Axes>"
      ]
     },
     "metadata": {},
     "output_type": "display_data"
    }
   ],
   "source": [
    "evaluate.get_confusion_matrix()"
   ]
  },
  {
   "cell_type": "markdown",
   "metadata": {
    "jupyter": {
     "outputs_hidden": false
    }
   },
   "source": [
    "## Run chatbot"
   ]
  },
  {
   "cell_type": "code",
   "execution_count": 102,
   "metadata": {
    "jupyter": {
     "outputs_hidden": false
    }
   },
   "outputs": [],
   "source": [
    "# Class for model inference.\n",
    "class Predict:\n",
    "\n",
    "    def __init__(self, model, intents, intent_data, utt):\n",
    "        '''Args:\n",
    "            model (str): Variable name for model path.\n",
    "            intents (:obj:`list`): Ordered list of intent labels.\n",
    "            intent_data (:obj:, `dict`): Dictionary containing intents as keys\n",
    "            and and dictionaries of queries and responses as values.\n",
    "            utt (str): Utterance to be used to predict intent.\n",
    "        '''\n",
    "\n",
    "        self.intent_data = intent_data\n",
    "\n",
    "        self.intents = intents\n",
    "\n",
    "        self.model = model\n",
    "\n",
    "        # instantiate Utt object\n",
    "        parsed_utt = Utt(utt, query=True)\n",
    "        \n",
    "        # preprocess utterance\n",
    "        self.utt = parsed_utt.parse_utt()\n",
    "\n",
    "        if self.utt:\n",
    "            self.predicted_intent = self._predict_intent()\n",
    "\n",
    "            if not self.predicted_intent:\n",
    "                self.response = \"Sorry, I didn't understand that. Please can you rephrase your message.\"\n",
    "            else:\n",
    "                self.response = self._get_response()\n",
    "        else:\n",
    "            self.response = \"Sorry, I didn't understand that. Please can you rephrase your message.\"\n",
    "\n",
    "    def _predict_intent(self):\n",
    "        '''Given utterance, predicts intent label.'''\n",
    "\n",
    "        query = np.array([self.utt], dtype=object)\n",
    "        predict = self.model.predict(query, batch_size=32, verbose=0)\n",
    "        predict_logit = predict.argmax(axis=1)\n",
    "        predicted_label = self.intents[predict_logit[0]]\n",
    "        if predicted_label:\n",
    "            return predicted_label\n",
    "        return None\n",
    "\n",
    "    def _get_response(self):\n",
    "        '''Given label, generates random response from list of available responses.'''\n",
    "\n",
    "        response_list = self.intent_data[self.predicted_intent]['2']\n",
    "        return random.choice(response_list)"
   ]
  }
 ],
 "metadata": {
  "kernelspec": {
   "display_name": "Python 3 (ipykernel)",
   "language": "python",
   "name": "python3"
  },
  "language_info": {
   "codemirror_mode": {
    "name": "ipython",
    "version": 3
   },
   "file_extension": ".py",
   "mimetype": "text/x-python",
   "name": "python",
   "nbconvert_exporter": "python",
   "pygments_lexer": "ipython3",
   "version": "3.11.5"
  }
 },
 "nbformat": 4,
 "nbformat_minor": 4
}
